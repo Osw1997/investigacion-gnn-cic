{
  "cells": [
    {
      "cell_type": "markdown",
      "metadata": {
        "id": "lJeHLPXdxw6B"
      },
      "source": [
        "## Install kglab and Pytorch Geometric"
      ]
    },
    {
      "cell_type": "code",
      "execution_count": 1,
      "metadata": {},
      "outputs": [],
      "source": [
        "# !pip install --upgrade pip"
      ]
    },
    {
      "cell_type": "code",
      "execution_count": 2,
      "metadata": {
        "colab": {
          "base_uri": "https://localhost:8080/"
        },
        "id": "BenJ-dADxl9j",
        "outputId": "f3985116-e5de-46cf-da99-c1f36c0a2fb7"
      },
      "outputs": [],
      "source": [
        "\n",
        "# version = \"1.12.1\" # original: 1.8.0\n",
        "version = \"1.8.0\"\n",
        "# %pip install torch-scatter -f f\"https://pytorch-geometric.com/whl/torch-{version}+cpu.html\" -qqq\n",
        "# %pip install torch-sparse -f f\"https://pytorch-geometric.com/whl/torch-{version}+cpu.html\" -qqq\n",
        "# %pip install torch-cluster -f f\"https://pytorch-geometric.com/whl/torch-{version}+cpu.html\" -qqq\n",
        "# %pip install torch-spline-conv -f f\"https://pytorch-geometric.com/whl/torch-{version}+cpu.html\" -qqq\n",
        "\n",
        "# # Consider install 1.12.1 version instead of 1.8.0\n",
        "\n",
        "# %pip install torch-geometric\n",
        "# %pip install torch==1.8.0 -qqq\n",
        "# # %pip install torch==1.12.1 -qqq\n",
        "\n",
        "# %pip install kglab==0.5.1 -qqq\n",
        "\n",
        "# # %pip install pytorch_lightning -qq"
      ]
    },
    {
      "cell_type": "code",
      "execution_count": 8,
      "metadata": {},
      "outputs": [
        {
          "name": "stdout",
          "output_type": "stream",
          "text": [
            "Looking in links: https://pytorch-geometric.com/whl/torch-1.8.0+cpu.html\n",
            "Requirement already satisfied: torch-scatter in c:\\users\\zacat\\onedrive\\documentos\\investigacion\\rubrix prueba\\rb_venv3715\\lib\\site-packages (2.0.8)\n"
          ]
        }
      ],
      "source": [
        "!pip install --no-index torch-scatter -f \"https://pytorch-geometric.com/whl/torch-1.8.0+cpu.html\""
      ]
    },
    {
      "cell_type": "code",
      "execution_count": 9,
      "metadata": {},
      "outputs": [
        {
          "name": "stdout",
          "output_type": "stream",
          "text": [
            "Looking in links: https://pytorch-geometric.com/whl/torch-1.8.0+cpu.html\n",
            "Requirement already satisfied: torch-sparse in c:\\users\\zacat\\onedrive\\documentos\\investigacion\\rubrix prueba\\rb_venv3715\\lib\\site-packages (0.6.12)\n",
            "Requirement already satisfied: scipy in c:\\users\\zacat\\onedrive\\documentos\\investigacion\\rubrix prueba\\rb_venv3715\\lib\\site-packages (from torch-sparse) (1.7.3)\n",
            "Requirement already satisfied: numpy<1.23.0,>=1.16.5 in c:\\users\\zacat\\onedrive\\documentos\\investigacion\\rubrix prueba\\rb_venv3715\\lib\\site-packages (from scipy->torch-sparse) (1.21.6)\n"
          ]
        }
      ],
      "source": [
        "!pip install --no-index torch-sparse -f \"https://pytorch-geometric.com/whl/torch-1.8.0+cpu.html\""
      ]
    },
    {
      "cell_type": "code",
      "execution_count": 10,
      "metadata": {},
      "outputs": [
        {
          "name": "stdout",
          "output_type": "stream",
          "text": [
            "Looking in links: https://pytorch-geometric.com/whl/torch-1.8.0+cpu.html\n",
            "Requirement already satisfied: torch-cluster in c:\\users\\zacat\\onedrive\\documentos\\investigacion\\rubrix prueba\\rb_venv3715\\lib\\site-packages (1.5.9)\n"
          ]
        }
      ],
      "source": [
        "!pip install --no-index torch-cluster -f \"https://pytorch-geometric.com/whl/torch-1.8.0+cpu.html\""
      ]
    },
    {
      "cell_type": "code",
      "execution_count": 11,
      "metadata": {},
      "outputs": [
        {
          "name": "stdout",
          "output_type": "stream",
          "text": [
            "Looking in links: https://pytorch-geometric.com/whl/torch-1.8.0+cpu.html\n",
            "Requirement already satisfied: torch-spline-conv in c:\\users\\zacat\\onedrive\\documentos\\investigacion\\rubrix prueba\\rb_venv3715\\lib\\site-packages (1.2.1)\n"
          ]
        }
      ],
      "source": [
        "!pip install --no-index torch-spline-conv -f \"https://pytorch-geometric.com/whl/torch-1.8.0+cpu.html\""
      ]
    },
    {
      "cell_type": "code",
      "execution_count": 12,
      "metadata": {},
      "outputs": [
        {
          "name": "stdout",
          "output_type": "stream",
          "text": [
            "Requirement already satisfied: torch-geometric in c:\\users\\zacat\\onedrive\\documentos\\investigacion\\rubrix prueba\\rb_venv3715\\lib\\site-packages (2.1.0.post1)\n",
            "Requirement already satisfied: tqdm in c:\\users\\zacat\\onedrive\\documentos\\investigacion\\rubrix prueba\\rb_venv3715\\lib\\site-packages (from torch-geometric) (4.64.1)\n",
            "Requirement already satisfied: numpy in c:\\users\\zacat\\onedrive\\documentos\\investigacion\\rubrix prueba\\rb_venv3715\\lib\\site-packages (from torch-geometric) (1.21.6)\n",
            "Requirement already satisfied: scipy in c:\\users\\zacat\\onedrive\\documentos\\investigacion\\rubrix prueba\\rb_venv3715\\lib\\site-packages (from torch-geometric) (1.7.3)\n",
            "Requirement already satisfied: jinja2 in c:\\users\\zacat\\onedrive\\documentos\\investigacion\\rubrix prueba\\rb_venv3715\\lib\\site-packages (from torch-geometric) (3.1.2)\n",
            "Requirement already satisfied: requests in c:\\users\\zacat\\onedrive\\documentos\\investigacion\\rubrix prueba\\rb_venv3715\\lib\\site-packages (from torch-geometric) (2.28.1)\n",
            "Requirement already satisfied: pyparsing in c:\\users\\zacat\\onedrive\\documentos\\investigacion\\rubrix prueba\\rb_venv3715\\lib\\site-packages (from torch-geometric) (3.0.9)\n",
            "Requirement already satisfied: scikit-learn in c:\\users\\zacat\\onedrive\\documentos\\investigacion\\rubrix prueba\\rb_venv3715\\lib\\site-packages (from torch-geometric) (1.0.2)\n",
            "Requirement already satisfied: MarkupSafe>=2.0 in c:\\users\\zacat\\onedrive\\documentos\\investigacion\\rubrix prueba\\rb_venv3715\\lib\\site-packages (from jinja2->torch-geometric) (2.1.1)\n",
            "Requirement already satisfied: charset-normalizer<3,>=2 in c:\\users\\zacat\\onedrive\\documentos\\investigacion\\rubrix prueba\\rb_venv3715\\lib\\site-packages (from requests->torch-geometric) (2.1.1)\n",
            "Requirement already satisfied: urllib3<1.27,>=1.21.1 in c:\\users\\zacat\\onedrive\\documentos\\investigacion\\rubrix prueba\\rb_venv3715\\lib\\site-packages (from requests->torch-geometric) (1.26.12)\n",
            "Requirement already satisfied: idna<4,>=2.5 in c:\\users\\zacat\\onedrive\\documentos\\investigacion\\rubrix prueba\\rb_venv3715\\lib\\site-packages (from requests->torch-geometric) (3.4)\n",
            "Requirement already satisfied: certifi>=2017.4.17 in c:\\users\\zacat\\onedrive\\documentos\\investigacion\\rubrix prueba\\rb_venv3715\\lib\\site-packages (from requests->torch-geometric) (2022.9.24)\n",
            "Requirement already satisfied: joblib>=0.11 in c:\\users\\zacat\\onedrive\\documentos\\investigacion\\rubrix prueba\\rb_venv3715\\lib\\site-packages (from scikit-learn->torch-geometric) (1.2.0)\n",
            "Requirement already satisfied: threadpoolctl>=2.0.0 in c:\\users\\zacat\\onedrive\\documentos\\investigacion\\rubrix prueba\\rb_venv3715\\lib\\site-packages (from scikit-learn->torch-geometric) (3.1.0)\n",
            "Requirement already satisfied: colorama in c:\\users\\zacat\\onedrive\\documentos\\investigacion\\rubrix prueba\\rb_venv3715\\lib\\site-packages (from tqdm->torch-geometric) (0.4.5)\n"
          ]
        }
      ],
      "source": [
        "!pip install torch-geometric"
      ]
    },
    {
      "cell_type": "code",
      "execution_count": 15,
      "metadata": {},
      "outputs": [
        {
          "name": "stdout",
          "output_type": "stream",
          "text": [
            "Requirement already satisfied: torch==1.8.0 in c:\\users\\zacat\\onedrive\\documentos\\investigacion\\rubrix prueba\\rb_venv3715\\lib\\site-packages (1.8.0)\n",
            "Requirement already satisfied: typing-extensions in c:\\users\\zacat\\onedrive\\documentos\\investigacion\\rubrix prueba\\rb_venv3715\\lib\\site-packages (from torch==1.8.0) (4.4.0)\n",
            "Requirement already satisfied: numpy in c:\\users\\zacat\\onedrive\\documentos\\investigacion\\rubrix prueba\\rb_venv3715\\lib\\site-packages (from torch==1.8.0) (1.21.6)\n"
          ]
        }
      ],
      "source": [
        "!pip install torch==1.8.0"
      ]
    },
    {
      "cell_type": "code",
      "execution_count": 9,
      "metadata": {},
      "outputs": [
        {
          "name": "stdout",
          "output_type": "stream",
          "text": [
            "Requirement already satisfied: kglab==0.5.1 in c:\\users\\zacat\\onedrive\\documentos\\investigacion\\rubrix prueba\\rb_venv3715\\lib\\site-packages (0.5.1)\n",
            "Requirement already satisfied: numpy>=1.19.2 in c:\\users\\zacat\\onedrive\\documentos\\investigacion\\rubrix prueba\\rb_venv3715\\lib\\site-packages (from kglab==0.5.1) (1.21.6)\n",
            "Requirement already satisfied: aiohttp>=3.8 in c:\\users\\zacat\\onedrive\\documentos\\investigacion\\rubrix prueba\\rb_venv3715\\lib\\site-packages (from kglab==0.5.1) (3.8.3)\n",
            "Requirement already satisfied: fsspec[gs,s3]>=0.8.5 in c:\\users\\zacat\\onedrive\\documentos\\investigacion\\rubrix prueba\\rb_venv3715\\lib\\site-packages (from kglab==0.5.1) (2022.8.2)\n",
            "Requirement already satisfied: csvwlib>=0.3.2 in c:\\users\\zacat\\onedrive\\documentos\\investigacion\\rubrix prueba\\rb_venv3715\\lib\\site-packages (from kglab==0.5.1) (0.3.2)\n",
            "Requirement already satisfied: rdflib>=6.0.2 in c:\\users\\zacat\\onedrive\\documentos\\investigacion\\rubrix prueba\\rb_venv3715\\lib\\site-packages (from kglab==0.5.1) (6.2.0)\n",
            "Requirement already satisfied: pandas>=1.3 in c:\\users\\zacat\\onedrive\\documentos\\investigacion\\rubrix prueba\\rb_venv3715\\lib\\site-packages (from kglab==0.5.1) (1.3.5)\n",
            "Requirement already satisfied: requests>=2.25.1 in c:\\users\\zacat\\onedrive\\documentos\\investigacion\\rubrix prueba\\rb_venv3715\\lib\\site-packages (from kglab==0.5.1) (2.28.1)\n",
            "Requirement already satisfied: decorator>=4.4.2 in c:\\users\\zacat\\onedrive\\documentos\\investigacion\\rubrix prueba\\rb_venv3715\\lib\\site-packages (from kglab==0.5.1) (5.1.1)\n",
            "Requirement already satisfied: python-dateutil>=2.8 in c:\\users\\zacat\\onedrive\\documentos\\investigacion\\rubrix prueba\\rb_venv3715\\lib\\site-packages (from kglab==0.5.1) (2.8.2)\n",
            "Requirement already satisfied: chocolate>=0.0.2 in c:\\users\\zacat\\onedrive\\documentos\\investigacion\\rubrix prueba\\rb_venv3715\\lib\\site-packages (from kglab==0.5.1) (0.0.2)\n",
            "Requirement already satisfied: tqdm>=4.56 in c:\\users\\zacat\\onedrive\\documentos\\investigacion\\rubrix prueba\\rb_venv3715\\lib\\site-packages (from kglab==0.5.1) (4.64.1)\n",
            "Requirement already satisfied: networkx>=2.6 in c:\\users\\zacat\\onedrive\\documentos\\investigacion\\rubrix prueba\\rb_venv3715\\lib\\site-packages (from kglab==0.5.1) (2.6.3)\n",
            "Requirement already satisfied: pslpython>=2.2.2 in c:\\users\\zacat\\onedrive\\documentos\\investigacion\\rubrix prueba\\rb_venv3715\\lib\\site-packages (from kglab==0.5.1) (2.3.0)\n",
            "Requirement already satisfied: pyshacl>=0.17.3 in c:\\users\\zacat\\onedrive\\documentos\\investigacion\\rubrix prueba\\rb_venv3715\\lib\\site-packages (from kglab==0.5.1) (0.20.0)\n",
            "Requirement already satisfied: pyarrow>=1.0.1 in c:\\users\\zacat\\onedrive\\documentos\\investigacion\\rubrix prueba\\rb_venv3715\\lib\\site-packages (from kglab==0.5.1) (9.0.0)\n",
            "Requirement already satisfied: pyvis>=0.1.7 in c:\\users\\zacat\\onedrive\\documentos\\investigacion\\rubrix prueba\\rb_venv3715\\lib\\site-packages (from kglab==0.5.1) (0.3.0)\n",
            "Requirement already satisfied: statsmodels>=0.12 in c:\\users\\zacat\\onedrive\\documentos\\investigacion\\rubrix prueba\\rb_venv3715\\lib\\site-packages (from kglab==0.5.1) (0.13.2)\n",
            "Requirement already satisfied: icecream>=2.1 in c:\\users\\zacat\\onedrive\\documentos\\investigacion\\rubrix prueba\\rb_venv3715\\lib\\site-packages (from kglab==0.5.1) (2.1.3)\n",
            "Requirement already satisfied: pynvml>=8.0.4 in c:\\users\\zacat\\onedrive\\documentos\\investigacion\\rubrix prueba\\rb_venv3715\\lib\\site-packages (from kglab==0.5.1) (11.4.1)\n",
            "Requirement already satisfied: urlpath>=1.1.7 in c:\\users\\zacat\\onedrive\\documentos\\investigacion\\rubrix prueba\\rb_venv3715\\lib\\site-packages (from kglab==0.5.1) (1.2.0)\n",
            "Requirement already satisfied: owlrl>=6.0.2 in c:\\users\\zacat\\onedrive\\documentos\\investigacion\\rubrix prueba\\rb_venv3715\\lib\\site-packages (from kglab==0.5.1) (6.0.2)\n",
            "Requirement already satisfied: gcsfs>=0.7.1 in c:\\users\\zacat\\onedrive\\documentos\\investigacion\\rubrix prueba\\rb_venv3715\\lib\\site-packages (from kglab==0.5.1) (2022.8.2)\n",
            "Requirement already satisfied: morph-kgc>=1.6.0 in c:\\users\\zacat\\onedrive\\documentos\\investigacion\\rubrix prueba\\rb_venv3715\\lib\\site-packages (from kglab==0.5.1) (2.2.0)\n",
            "Requirement already satisfied: attrs>=17.3.0 in c:\\users\\zacat\\onedrive\\documentos\\investigacion\\rubrix prueba\\rb_venv3715\\lib\\site-packages (from aiohttp>=3.8->kglab==0.5.1) (20.3.0)\n",
            "Requirement already satisfied: multidict<7.0,>=4.5 in c:\\users\\zacat\\onedrive\\documentos\\investigacion\\rubrix prueba\\rb_venv3715\\lib\\site-packages (from aiohttp>=3.8->kglab==0.5.1) (6.0.2)\n",
            "Requirement already satisfied: frozenlist>=1.1.1 in c:\\users\\zacat\\onedrive\\documentos\\investigacion\\rubrix prueba\\rb_venv3715\\lib\\site-packages (from aiohttp>=3.8->kglab==0.5.1) (1.3.1)\n",
            "Requirement already satisfied: yarl<2.0,>=1.0 in c:\\users\\zacat\\onedrive\\documentos\\investigacion\\rubrix prueba\\rb_venv3715\\lib\\site-packages (from aiohttp>=3.8->kglab==0.5.1) (1.8.1)\n",
            "Requirement already satisfied: charset-normalizer<3.0,>=2.0 in c:\\users\\zacat\\onedrive\\documentos\\investigacion\\rubrix prueba\\rb_venv3715\\lib\\site-packages (from aiohttp>=3.8->kglab==0.5.1) (2.1.1)\n",
            "Requirement already satisfied: async-timeout<5.0,>=4.0.0a3 in c:\\users\\zacat\\onedrive\\documentos\\investigacion\\rubrix prueba\\rb_venv3715\\lib\\site-packages (from aiohttp>=3.8->kglab==0.5.1) (4.0.2)\n",
            "Requirement already satisfied: asynctest==0.13.0 in c:\\users\\zacat\\onedrive\\documentos\\investigacion\\rubrix prueba\\rb_venv3715\\lib\\site-packages (from aiohttp>=3.8->kglab==0.5.1) (0.13.0)\n",
            "Requirement already satisfied: aiosignal>=1.1.2 in c:\\users\\zacat\\onedrive\\documentos\\investigacion\\rubrix prueba\\rb_venv3715\\lib\\site-packages (from aiohttp>=3.8->kglab==0.5.1) (1.2.0)\n",
            "Requirement already satisfied: typing-extensions>=3.7.4 in c:\\users\\zacat\\onedrive\\documentos\\investigacion\\rubrix prueba\\rb_venv3715\\lib\\site-packages (from aiohttp>=3.8->kglab==0.5.1) (4.4.0)\n",
            "Requirement already satisfied: rdflib-jsonld>=0.4.0 in c:\\users\\zacat\\onedrive\\documentos\\investigacion\\rubrix prueba\\rb_venv3715\\lib\\site-packages (from csvwlib>=0.3.2->kglab==0.5.1) (0.6.2)\n",
            "Requirement already satisfied: uritemplate>=3.0.0 in c:\\users\\zacat\\onedrive\\documentos\\investigacion\\rubrix prueba\\rb_venv3715\\lib\\site-packages (from csvwlib>=0.3.2->kglab==0.5.1) (4.1.1)\n",
            "Requirement already satisfied: language-tags>=0.4.3 in c:\\users\\zacat\\onedrive\\documentos\\investigacion\\rubrix prueba\\rb_venv3715\\lib\\site-packages (from csvwlib>=0.3.2->kglab==0.5.1) (1.1.0)\n",
            "Requirement already satisfied: s3fs in c:\\users\\zacat\\onedrive\\documentos\\investigacion\\rubrix prueba\\rb_venv3715\\lib\\site-packages (from fsspec[gs,s3]>=0.8.5->kglab==0.5.1) (2022.8.2)\n",
            "Requirement already satisfied: google-auth>=1.2 in c:\\users\\zacat\\onedrive\\documentos\\investigacion\\rubrix prueba\\rb_venv3715\\lib\\site-packages (from gcsfs>=0.7.1->kglab==0.5.1) (2.13.0)\n",
            "Requirement already satisfied: google-cloud-storage in c:\\users\\zacat\\onedrive\\documentos\\investigacion\\rubrix prueba\\rb_venv3715\\lib\\site-packages (from gcsfs>=0.7.1->kglab==0.5.1) (2.5.0)\n",
            "Requirement already satisfied: google-auth-oauthlib in c:\\users\\zacat\\onedrive\\documentos\\investigacion\\rubrix prueba\\rb_venv3715\\lib\\site-packages (from gcsfs>=0.7.1->kglab==0.5.1) (0.4.6)\n",
            "Requirement already satisfied: colorama>=0.3.9 in c:\\users\\zacat\\onedrive\\documentos\\investigacion\\rubrix prueba\\rb_venv3715\\lib\\site-packages (from icecream>=2.1->kglab==0.5.1) (0.4.5)\n",
            "Requirement already satisfied: pygments>=2.2.0 in c:\\users\\zacat\\onedrive\\documentos\\investigacion\\rubrix prueba\\rb_venv3715\\lib\\site-packages (from icecream>=2.1->kglab==0.5.1) (2.13.0)\n",
            "Requirement already satisfied: executing>=0.3.1 in c:\\users\\zacat\\onedrive\\documentos\\investigacion\\rubrix prueba\\rb_venv3715\\lib\\site-packages (from icecream>=2.1->kglab==0.5.1) (1.1.1)\n",
            "Requirement already satisfied: asttokens>=2.0.1 in c:\\users\\zacat\\onedrive\\documentos\\investigacion\\rubrix prueba\\rb_venv3715\\lib\\site-packages (from icecream>=2.1->kglab==0.5.1) (2.0.8)\n",
            "Requirement already satisfied: elementpath>=2.4.0 in c:\\users\\zacat\\onedrive\\documentos\\investigacion\\rubrix prueba\\rb_venv3715\\lib\\site-packages (from morph-kgc>=1.6.0->kglab==0.5.1) (3.0.2)\n",
            "Requirement already satisfied: sql-metadata>=2.3.0 in c:\\users\\zacat\\onedrive\\documentos\\investigacion\\rubrix prueba\\rb_venv3715\\lib\\site-packages (from morph-kgc>=1.6.0->kglab==0.5.1) (2.6.0)\n",
            "Requirement already satisfied: SQLAlchemy>=1.4.0 in c:\\users\\zacat\\onedrive\\documentos\\investigacion\\rubrix prueba\\rb_venv3715\\lib\\site-packages (from morph-kgc>=1.6.0->kglab==0.5.1) (1.4.42)\n",
            "Requirement already satisfied: falcon>=3.0.0 in c:\\users\\zacat\\onedrive\\documentos\\investigacion\\rubrix prueba\\rb_venv3715\\lib\\site-packages (from morph-kgc>=1.6.0->kglab==0.5.1) (3.1.0)\n",
            "Requirement already satisfied: jsonpath-python>=1.0.5 in c:\\users\\zacat\\onedrive\\documentos\\investigacion\\rubrix prueba\\rb_venv3715\\lib\\site-packages (from morph-kgc>=1.6.0->kglab==0.5.1) (1.0.6)\n",
            "Requirement already satisfied: pyoxigraph>=0.3.0 in c:\\users\\zacat\\onedrive\\documentos\\investigacion\\rubrix prueba\\rb_venv3715\\lib\\site-packages (from morph-kgc>=1.6.0->kglab==0.5.1) (0.3.6)\n",
            "Requirement already satisfied: pytz>=2017.3 in c:\\users\\zacat\\onedrive\\documentos\\investigacion\\rubrix prueba\\rb_venv3715\\lib\\site-packages (from pandas>=1.3->kglab==0.5.1) (2022.4)\n",
            "Requirement already satisfied: pyyaml>=3.13 in c:\\users\\zacat\\onedrive\\documentos\\investigacion\\rubrix prueba\\rb_venv3715\\lib\\site-packages (from pslpython>=2.2.2->kglab==0.5.1) (5.4.1)\n",
            "Requirement already satisfied: prettytable<3.0.0,>=2.2.1 in c:\\users\\zacat\\onedrive\\documentos\\investigacion\\rubrix prueba\\rb_venv3715\\lib\\site-packages (from pyshacl>=0.17.3->kglab==0.5.1) (2.5.0)\n",
            "Requirement already satisfied: packaging>=21.3 in c:\\users\\zacat\\onedrive\\documentos\\investigacion\\rubrix prueba\\rb_venv3715\\lib\\site-packages (from pyshacl>=0.17.3->kglab==0.5.1) (21.3)\n",
            "Requirement already satisfied: html5lib<2,>=1.1 in c:\\users\\zacat\\onedrive\\documentos\\investigacion\\rubrix prueba\\rb_venv3715\\lib\\site-packages (from pyshacl>=0.17.3->kglab==0.5.1) (1.1)\n",
            "Requirement already satisfied: six>=1.5 in c:\\users\\zacat\\onedrive\\documentos\\investigacion\\rubrix prueba\\rb_venv3715\\lib\\site-packages (from python-dateutil>=2.8->kglab==0.5.1) (1.16.0)\n",
            "Requirement already satisfied: jinja2>=2.9.6 in c:\\users\\zacat\\onedrive\\documentos\\investigacion\\rubrix prueba\\rb_venv3715\\lib\\site-packages (from pyvis>=0.1.7->kglab==0.5.1) (3.1.2)\n",
            "Requirement already satisfied: ipython>=5.3.0 in c:\\users\\zacat\\onedrive\\documentos\\investigacion\\rubrix prueba\\rb_venv3715\\lib\\site-packages (from pyvis>=0.1.7->kglab==0.5.1) (7.34.0)\n",
            "Requirement already satisfied: jsonpickle>=1.4.1 in c:\\users\\zacat\\onedrive\\documentos\\investigacion\\rubrix prueba\\rb_venv3715\\lib\\site-packages (from pyvis>=0.1.7->kglab==0.5.1) (2.2.0)\n",
            "Requirement already satisfied: pyparsing in c:\\users\\zacat\\onedrive\\documentos\\investigacion\\rubrix prueba\\rb_venv3715\\lib\\site-packages (from rdflib>=6.0.2->kglab==0.5.1) (3.0.9)\n",
            "Requirement already satisfied: importlib-metadata in c:\\users\\zacat\\onedrive\\documentos\\investigacion\\rubrix prueba\\rb_venv3715\\lib\\site-packages (from rdflib>=6.0.2->kglab==0.5.1) (5.0.0)\n",
            "Requirement already satisfied: setuptools in c:\\users\\zacat\\onedrive\\documentos\\investigacion\\rubrix prueba\\rb_venv3715\\lib\\site-packages (from rdflib>=6.0.2->kglab==0.5.1) (65.5.0)\n",
            "Requirement already satisfied: isodate in c:\\users\\zacat\\onedrive\\documentos\\investigacion\\rubrix prueba\\rb_venv3715\\lib\\site-packages (from rdflib>=6.0.2->kglab==0.5.1) (0.6.1)\n",
            "Requirement already satisfied: urllib3<1.27,>=1.21.1 in c:\\users\\zacat\\onedrive\\documentos\\investigacion\\rubrix prueba\\rb_venv3715\\lib\\site-packages (from requests>=2.25.1->kglab==0.5.1) (1.26.12)\n",
            "Requirement already satisfied: certifi>=2017.4.17 in c:\\users\\zacat\\onedrive\\documentos\\investigacion\\rubrix prueba\\rb_venv3715\\lib\\site-packages (from requests>=2.25.1->kglab==0.5.1) (2022.9.24)\n",
            "Requirement already satisfied: idna<4,>=2.5 in c:\\users\\zacat\\onedrive\\documentos\\investigacion\\rubrix prueba\\rb_venv3715\\lib\\site-packages (from requests>=2.25.1->kglab==0.5.1) (3.4)\n",
            "Requirement already satisfied: scipy>=1.3 in c:\\users\\zacat\\onedrive\\documentos\\investigacion\\rubrix prueba\\rb_venv3715\\lib\\site-packages (from statsmodels>=0.12->kglab==0.5.1) (1.7.3)\n",
            "Requirement already satisfied: patsy>=0.5.2 in c:\\users\\zacat\\onedrive\\documentos\\investigacion\\rubrix prueba\\rb_venv3715\\lib\\site-packages (from statsmodels>=0.12->kglab==0.5.1) (0.5.3)\n",
            "Requirement already satisfied: rsa<5,>=3.1.4 in c:\\users\\zacat\\onedrive\\documentos\\investigacion\\rubrix prueba\\rb_venv3715\\lib\\site-packages (from google-auth>=1.2->gcsfs>=0.7.1->kglab==0.5.1) (4.9)\n",
            "Requirement already satisfied: pyasn1-modules>=0.2.1 in c:\\users\\zacat\\onedrive\\documentos\\investigacion\\rubrix prueba\\rb_venv3715\\lib\\site-packages (from google-auth>=1.2->gcsfs>=0.7.1->kglab==0.5.1) (0.2.8)\n",
            "Requirement already satisfied: cachetools<6.0,>=2.0.0 in c:\\users\\zacat\\onedrive\\documentos\\investigacion\\rubrix prueba\\rb_venv3715\\lib\\site-packages (from google-auth>=1.2->gcsfs>=0.7.1->kglab==0.5.1) (5.2.0)\n",
            "Requirement already satisfied: webencodings in c:\\users\\zacat\\onedrive\\documentos\\investigacion\\rubrix prueba\\rb_venv3715\\lib\\site-packages (from html5lib<2,>=1.1->pyshacl>=0.17.3->kglab==0.5.1) (0.5.1)\n",
            "Requirement already satisfied: jedi>=0.16 in c:\\users\\zacat\\onedrive\\documentos\\investigacion\\rubrix prueba\\rb_venv3715\\lib\\site-packages (from ipython>=5.3.0->pyvis>=0.1.7->kglab==0.5.1) (0.18.1)\n",
            "Requirement already satisfied: traitlets>=4.2 in c:\\users\\zacat\\onedrive\\documentos\\investigacion\\rubrix prueba\\rb_venv3715\\lib\\site-packages (from ipython>=5.3.0->pyvis>=0.1.7->kglab==0.5.1) (5.4.0)\n",
            "Requirement already satisfied: backcall in c:\\users\\zacat\\onedrive\\documentos\\investigacion\\rubrix prueba\\rb_venv3715\\lib\\site-packages (from ipython>=5.3.0->pyvis>=0.1.7->kglab==0.5.1) (0.2.0)\n",
            "Requirement already satisfied: pickleshare in c:\\users\\zacat\\onedrive\\documentos\\investigacion\\rubrix prueba\\rb_venv3715\\lib\\site-packages (from ipython>=5.3.0->pyvis>=0.1.7->kglab==0.5.1) (0.7.5)\n",
            "Requirement already satisfied: prompt-toolkit!=3.0.0,!=3.0.1,<3.1.0,>=2.0.0 in c:\\users\\zacat\\onedrive\\documentos\\investigacion\\rubrix prueba\\rb_venv3715\\lib\\site-packages (from ipython>=5.3.0->pyvis>=0.1.7->kglab==0.5.1) (3.0.31)\n",
            "Requirement already satisfied: matplotlib-inline in c:\\users\\zacat\\onedrive\\documentos\\investigacion\\rubrix prueba\\rb_venv3715\\lib\\site-packages (from ipython>=5.3.0->pyvis>=0.1.7->kglab==0.5.1) (0.1.6)\n",
            "Requirement already satisfied: MarkupSafe>=2.0 in c:\\users\\zacat\\onedrive\\documentos\\investigacion\\rubrix prueba\\rb_venv3715\\lib\\site-packages (from jinja2>=2.9.6->pyvis>=0.1.7->kglab==0.5.1) (2.1.1)\n",
            "Requirement already satisfied: wcwidth in c:\\users\\zacat\\onedrive\\documentos\\investigacion\\rubrix prueba\\rb_venv3715\\lib\\site-packages (from prettytable<3.0.0,>=2.2.1->pyshacl>=0.17.3->kglab==0.5.1) (0.2.5)\n",
            "Requirement already satisfied: sqlparse<0.5.0,>=0.4.1 in c:\\users\\zacat\\onedrive\\documentos\\investigacion\\rubrix prueba\\rb_venv3715\\lib\\site-packages (from sql-metadata>=2.3.0->morph-kgc>=1.6.0->kglab==0.5.1) (0.4.3)\n",
            "Requirement already satisfied: greenlet!=0.4.17 in c:\\users\\zacat\\onedrive\\documentos\\investigacion\\rubrix prueba\\rb_venv3715\\lib\\site-packages (from SQLAlchemy>=1.4.0->morph-kgc>=1.6.0->kglab==0.5.1) (1.1.3.post0)\n",
            "Requirement already satisfied: requests-oauthlib>=0.7.0 in c:\\users\\zacat\\onedrive\\documentos\\investigacion\\rubrix prueba\\rb_venv3715\\lib\\site-packages (from google-auth-oauthlib->gcsfs>=0.7.1->kglab==0.5.1) (1.3.1)\n",
            "Requirement already satisfied: google-resumable-media>=2.3.2 in c:\\users\\zacat\\onedrive\\documentos\\investigacion\\rubrix prueba\\rb_venv3715\\lib\\site-packages (from google-cloud-storage->gcsfs>=0.7.1->kglab==0.5.1) (2.4.0)\n",
            "Requirement already satisfied: google-cloud-core<3.0dev,>=2.3.0 in c:\\users\\zacat\\onedrive\\documentos\\investigacion\\rubrix prueba\\rb_venv3715\\lib\\site-packages (from google-cloud-storage->gcsfs>=0.7.1->kglab==0.5.1) (2.3.2)\n",
            "Requirement already satisfied: google-api-core!=2.0.*,!=2.1.*,!=2.2.*,!=2.3.0,<3.0.0dev,>=1.31.5 in c:\\users\\zacat\\onedrive\\documentos\\investigacion\\rubrix prueba\\rb_venv3715\\lib\\site-packages (from google-cloud-storage->gcsfs>=0.7.1->kglab==0.5.1) (2.10.2)\n",
            "Requirement already satisfied: zipp>=0.5 in c:\\users\\zacat\\onedrive\\documentos\\investigacion\\rubrix prueba\\rb_venv3715\\lib\\site-packages (from importlib-metadata->rdflib>=6.0.2->kglab==0.5.1) (3.9.0)\n",
            "Requirement already satisfied: aiobotocore~=2.4.0 in c:\\users\\zacat\\onedrive\\documentos\\investigacion\\rubrix prueba\\rb_venv3715\\lib\\site-packages (from s3fs->fsspec[gs,s3]>=0.8.5->kglab==0.5.1) (2.4.0)\n",
            "Requirement already satisfied: botocore<1.27.60,>=1.27.59 in c:\\users\\zacat\\onedrive\\documentos\\investigacion\\rubrix prueba\\rb_venv3715\\lib\\site-packages (from aiobotocore~=2.4.0->s3fs->fsspec[gs,s3]>=0.8.5->kglab==0.5.1) (1.27.59)\n",
            "Requirement already satisfied: wrapt>=1.10.10 in c:\\users\\zacat\\onedrive\\documentos\\investigacion\\rubrix prueba\\rb_venv3715\\lib\\site-packages (from aiobotocore~=2.4.0->s3fs->fsspec[gs,s3]>=0.8.5->kglab==0.5.1) (1.13.3)\n",
            "Requirement already satisfied: aioitertools>=0.5.1 in c:\\users\\zacat\\onedrive\\documentos\\investigacion\\rubrix prueba\\rb_venv3715\\lib\\site-packages (from aiobotocore~=2.4.0->s3fs->fsspec[gs,s3]>=0.8.5->kglab==0.5.1) (0.11.0)\n",
            "Requirement already satisfied: protobuf!=3.20.0,!=3.20.1,!=4.21.0,!=4.21.1,!=4.21.2,!=4.21.3,!=4.21.4,!=4.21.5,<5.0.0dev,>=3.19.5 in c:\\users\\zacat\\onedrive\\documentos\\investigacion\\rubrix prueba\\rb_venv3715\\lib\\site-packages (from google-api-core!=2.0.*,!=2.1.*,!=2.2.*,!=2.3.0,<3.0.0dev,>=1.31.5->google-cloud-storage->gcsfs>=0.7.1->kglab==0.5.1) (3.19.6)\n",
            "Requirement already satisfied: googleapis-common-protos<2.0dev,>=1.56.2 in c:\\users\\zacat\\onedrive\\documentos\\investigacion\\rubrix prueba\\rb_venv3715\\lib\\site-packages (from google-api-core!=2.0.*,!=2.1.*,!=2.2.*,!=2.3.0,<3.0.0dev,>=1.31.5->google-cloud-storage->gcsfs>=0.7.1->kglab==0.5.1) (1.56.4)\n",
            "Requirement already satisfied: google-crc32c<2.0dev,>=1.0 in c:\\users\\zacat\\onedrive\\documentos\\investigacion\\rubrix prueba\\rb_venv3715\\lib\\site-packages (from google-resumable-media>=2.3.2->google-cloud-storage->gcsfs>=0.7.1->kglab==0.5.1) (1.5.0)\n",
            "Requirement already satisfied: parso<0.9.0,>=0.8.0 in c:\\users\\zacat\\onedrive\\documentos\\investigacion\\rubrix prueba\\rb_venv3715\\lib\\site-packages (from jedi>=0.16->ipython>=5.3.0->pyvis>=0.1.7->kglab==0.5.1) (0.8.3)\n",
            "Requirement already satisfied: pyasn1<0.5.0,>=0.4.6 in c:\\users\\zacat\\onedrive\\documentos\\investigacion\\rubrix prueba\\rb_venv3715\\lib\\site-packages (from pyasn1-modules>=0.2.1->google-auth>=1.2->gcsfs>=0.7.1->kglab==0.5.1) (0.4.8)\n",
            "Requirement already satisfied: oauthlib>=3.0.0 in c:\\users\\zacat\\onedrive\\documentos\\investigacion\\rubrix prueba\\rb_venv3715\\lib\\site-packages (from requests-oauthlib>=0.7.0->google-auth-oauthlib->gcsfs>=0.7.1->kglab==0.5.1) (3.2.2)\n",
            "Requirement already satisfied: jmespath<2.0.0,>=0.7.1 in c:\\users\\zacat\\onedrive\\documentos\\investigacion\\rubrix prueba\\rb_venv3715\\lib\\site-packages (from botocore<1.27.60,>=1.27.59->aiobotocore~=2.4.0->s3fs->fsspec[gs,s3]>=0.8.5->kglab==0.5.1) (1.0.1)\n"
          ]
        }
      ],
      "source": [
        "!pip install kglab==0.5.1"
      ]
    },
    {
      "cell_type": "code",
      "execution_count": 10,
      "metadata": {},
      "outputs": [
        {
          "name": "stdout",
          "output_type": "stream",
          "text": [
            "Requirement already satisfied: pytorch_lightning in c:\\users\\zacat\\onedrive\\documentos\\investigacion\\rubrix prueba\\rb_venv3715\\lib\\site-packages (1.7.7)\n",
            "Requirement already satisfied: numpy>=1.17.2 in c:\\users\\zacat\\onedrive\\documentos\\investigacion\\rubrix prueba\\rb_venv3715\\lib\\site-packages (from pytorch_lightning) (1.21.6)\n",
            "Requirement already satisfied: tqdm>=4.57.0 in c:\\users\\zacat\\onedrive\\documentos\\investigacion\\rubrix prueba\\rb_venv3715\\lib\\site-packages (from pytorch_lightning) (4.64.1)\n",
            "Requirement already satisfied: packaging>=17.0 in c:\\users\\zacat\\onedrive\\documentos\\investigacion\\rubrix prueba\\rb_venv3715\\lib\\site-packages (from pytorch_lightning) (21.3)\n",
            "Requirement already satisfied: tensorboard>=2.9.1 in c:\\users\\zacat\\onedrive\\documentos\\investigacion\\rubrix prueba\\rb_venv3715\\lib\\site-packages (from pytorch_lightning) (2.10.1)\n",
            "Requirement already satisfied: pyDeprecate>=0.3.1 in c:\\users\\zacat\\onedrive\\documentos\\investigacion\\rubrix prueba\\rb_venv3715\\lib\\site-packages (from pytorch_lightning) (0.3.2)\n",
            "Requirement already satisfied: typing-extensions>=4.0.0 in c:\\users\\zacat\\onedrive\\documentos\\investigacion\\rubrix prueba\\rb_venv3715\\lib\\site-packages (from pytorch_lightning) (4.4.0)\n",
            "Requirement already satisfied: torchmetrics>=0.7.0 in c:\\users\\zacat\\onedrive\\documentos\\investigacion\\rubrix prueba\\rb_venv3715\\lib\\site-packages (from pytorch_lightning) (0.10.0)\n",
            "Requirement already satisfied: PyYAML>=5.4 in c:\\users\\zacat\\onedrive\\documentos\\investigacion\\rubrix prueba\\rb_venv3715\\lib\\site-packages (from pytorch_lightning) (5.4.1)\n",
            "Requirement already satisfied: fsspec[http]!=2021.06.0,>=2021.05.0 in c:\\users\\zacat\\onedrive\\documentos\\investigacion\\rubrix prueba\\rb_venv3715\\lib\\site-packages (from pytorch_lightning) (2022.8.2)\n",
            "Collecting torch>=1.9.*\n",
            "  Using cached torch-1.12.1-cp37-cp37m-win_amd64.whl (161.9 MB)\n",
            "Requirement already satisfied: aiohttp!=4.0.0a0,!=4.0.0a1 in c:\\users\\zacat\\onedrive\\documentos\\investigacion\\rubrix prueba\\rb_venv3715\\lib\\site-packages (from fsspec[http]!=2021.06.0,>=2021.05.0->pytorch_lightning) (3.8.3)\n",
            "Requirement already satisfied: requests in c:\\users\\zacat\\onedrive\\documentos\\investigacion\\rubrix prueba\\rb_venv3715\\lib\\site-packages (from fsspec[http]!=2021.06.0,>=2021.05.0->pytorch_lightning) (2.28.1)\n",
            "Requirement already satisfied: pyparsing!=3.0.5,>=2.0.2 in c:\\users\\zacat\\onedrive\\documentos\\investigacion\\rubrix prueba\\rb_venv3715\\lib\\site-packages (from packaging>=17.0->pytorch_lightning) (3.0.9)\n",
            "Requirement already satisfied: tensorboard-plugin-wit>=1.6.0 in c:\\users\\zacat\\onedrive\\documentos\\investigacion\\rubrix prueba\\rb_venv3715\\lib\\site-packages (from tensorboard>=2.9.1->pytorch_lightning) (1.8.1)\n",
            "Requirement already satisfied: wheel>=0.26 in c:\\users\\zacat\\onedrive\\documentos\\investigacion\\rubrix prueba\\rb_venv3715\\lib\\site-packages (from tensorboard>=2.9.1->pytorch_lightning) (0.37.1)\n",
            "Requirement already satisfied: absl-py>=0.4 in c:\\users\\zacat\\onedrive\\documentos\\investigacion\\rubrix prueba\\rb_venv3715\\lib\\site-packages (from tensorboard>=2.9.1->pytorch_lightning) (1.3.0)\n",
            "Requirement already satisfied: markdown>=2.6.8 in c:\\users\\zacat\\onedrive\\documentos\\investigacion\\rubrix prueba\\rb_venv3715\\lib\\site-packages (from tensorboard>=2.9.1->pytorch_lightning) (3.4.1)\n",
            "Requirement already satisfied: google-auth<3,>=1.6.3 in c:\\users\\zacat\\onedrive\\documentos\\investigacion\\rubrix prueba\\rb_venv3715\\lib\\site-packages (from tensorboard>=2.9.1->pytorch_lightning) (2.13.0)\n",
            "Requirement already satisfied: grpcio>=1.24.3 in c:\\users\\zacat\\onedrive\\documentos\\investigacion\\rubrix prueba\\rb_venv3715\\lib\\site-packages (from tensorboard>=2.9.1->pytorch_lightning) (1.49.1)\n",
            "Requirement already satisfied: protobuf<3.20,>=3.9.2 in c:\\users\\zacat\\onedrive\\documentos\\investigacion\\rubrix prueba\\rb_venv3715\\lib\\site-packages (from tensorboard>=2.9.1->pytorch_lightning) (3.19.6)\n",
            "Requirement already satisfied: google-auth-oauthlib<0.5,>=0.4.1 in c:\\users\\zacat\\onedrive\\documentos\\investigacion\\rubrix prueba\\rb_venv3715\\lib\\site-packages (from tensorboard>=2.9.1->pytorch_lightning) (0.4.6)\n",
            "Requirement already satisfied: setuptools>=41.0.0 in c:\\users\\zacat\\onedrive\\documentos\\investigacion\\rubrix prueba\\rb_venv3715\\lib\\site-packages (from tensorboard>=2.9.1->pytorch_lightning) (65.5.0)\n",
            "Requirement already satisfied: werkzeug>=1.0.1 in c:\\users\\zacat\\onedrive\\documentos\\investigacion\\rubrix prueba\\rb_venv3715\\lib\\site-packages (from tensorboard>=2.9.1->pytorch_lightning) (2.2.2)\n",
            "Requirement already satisfied: tensorboard-data-server<0.7.0,>=0.6.0 in c:\\users\\zacat\\onedrive\\documentos\\investigacion\\rubrix prueba\\rb_venv3715\\lib\\site-packages (from tensorboard>=2.9.1->pytorch_lightning) (0.6.1)\n",
            "Requirement already satisfied: colorama in c:\\users\\zacat\\onedrive\\documentos\\investigacion\\rubrix prueba\\rb_venv3715\\lib\\site-packages (from tqdm>=4.57.0->pytorch_lightning) (0.4.5)\n",
            "Requirement already satisfied: charset-normalizer<3.0,>=2.0 in c:\\users\\zacat\\onedrive\\documentos\\investigacion\\rubrix prueba\\rb_venv3715\\lib\\site-packages (from aiohttp!=4.0.0a0,!=4.0.0a1->fsspec[http]!=2021.06.0,>=2021.05.0->pytorch_lightning) (2.1.1)\n",
            "Requirement already satisfied: asynctest==0.13.0 in c:\\users\\zacat\\onedrive\\documentos\\investigacion\\rubrix prueba\\rb_venv3715\\lib\\site-packages (from aiohttp!=4.0.0a0,!=4.0.0a1->fsspec[http]!=2021.06.0,>=2021.05.0->pytorch_lightning) (0.13.0)\n",
            "Requirement already satisfied: yarl<2.0,>=1.0 in c:\\users\\zacat\\onedrive\\documentos\\investigacion\\rubrix prueba\\rb_venv3715\\lib\\site-packages (from aiohttp!=4.0.0a0,!=4.0.0a1->fsspec[http]!=2021.06.0,>=2021.05.0->pytorch_lightning) (1.8.1)\n",
            "Requirement already satisfied: frozenlist>=1.1.1 in c:\\users\\zacat\\onedrive\\documentos\\investigacion\\rubrix prueba\\rb_venv3715\\lib\\site-packages (from aiohttp!=4.0.0a0,!=4.0.0a1->fsspec[http]!=2021.06.0,>=2021.05.0->pytorch_lightning) (1.3.1)\n",
            "Requirement already satisfied: aiosignal>=1.1.2 in c:\\users\\zacat\\onedrive\\documentos\\investigacion\\rubrix prueba\\rb_venv3715\\lib\\site-packages (from aiohttp!=4.0.0a0,!=4.0.0a1->fsspec[http]!=2021.06.0,>=2021.05.0->pytorch_lightning) (1.2.0)\n",
            "Requirement already satisfied: multidict<7.0,>=4.5 in c:\\users\\zacat\\onedrive\\documentos\\investigacion\\rubrix prueba\\rb_venv3715\\lib\\site-packages (from aiohttp!=4.0.0a0,!=4.0.0a1->fsspec[http]!=2021.06.0,>=2021.05.0->pytorch_lightning) (6.0.2)\n",
            "Requirement already satisfied: async-timeout<5.0,>=4.0.0a3 in c:\\users\\zacat\\onedrive\\documentos\\investigacion\\rubrix prueba\\rb_venv3715\\lib\\site-packages (from aiohttp!=4.0.0a0,!=4.0.0a1->fsspec[http]!=2021.06.0,>=2021.05.0->pytorch_lightning) (4.0.2)\n",
            "Requirement already satisfied: attrs>=17.3.0 in c:\\users\\zacat\\onedrive\\documentos\\investigacion\\rubrix prueba\\rb_venv3715\\lib\\site-packages (from aiohttp!=4.0.0a0,!=4.0.0a1->fsspec[http]!=2021.06.0,>=2021.05.0->pytorch_lightning) (20.3.0)\n",
            "Requirement already satisfied: rsa<5,>=3.1.4 in c:\\users\\zacat\\onedrive\\documentos\\investigacion\\rubrix prueba\\rb_venv3715\\lib\\site-packages (from google-auth<3,>=1.6.3->tensorboard>=2.9.1->pytorch_lightning) (4.9)\n",
            "Requirement already satisfied: pyasn1-modules>=0.2.1 in c:\\users\\zacat\\onedrive\\documentos\\investigacion\\rubrix prueba\\rb_venv3715\\lib\\site-packages (from google-auth<3,>=1.6.3->tensorboard>=2.9.1->pytorch_lightning) (0.2.8)\n",
            "Requirement already satisfied: cachetools<6.0,>=2.0.0 in c:\\users\\zacat\\onedrive\\documentos\\investigacion\\rubrix prueba\\rb_venv3715\\lib\\site-packages (from google-auth<3,>=1.6.3->tensorboard>=2.9.1->pytorch_lightning) (5.2.0)\n",
            "Requirement already satisfied: six>=1.9.0 in c:\\users\\zacat\\onedrive\\documentos\\investigacion\\rubrix prueba\\rb_venv3715\\lib\\site-packages (from google-auth<3,>=1.6.3->tensorboard>=2.9.1->pytorch_lightning) (1.16.0)\n",
            "Requirement already satisfied: requests-oauthlib>=0.7.0 in c:\\users\\zacat\\onedrive\\documentos\\investigacion\\rubrix prueba\\rb_venv3715\\lib\\site-packages (from google-auth-oauthlib<0.5,>=0.4.1->tensorboard>=2.9.1->pytorch_lightning) (1.3.1)\n",
            "Requirement already satisfied: importlib-metadata>=4.4 in c:\\users\\zacat\\onedrive\\documentos\\investigacion\\rubrix prueba\\rb_venv3715\\lib\\site-packages (from markdown>=2.6.8->tensorboard>=2.9.1->pytorch_lightning) (5.0.0)\n",
            "Requirement already satisfied: certifi>=2017.4.17 in c:\\users\\zacat\\onedrive\\documentos\\investigacion\\rubrix prueba\\rb_venv3715\\lib\\site-packages (from requests->fsspec[http]!=2021.06.0,>=2021.05.0->pytorch_lightning) (2022.9.24)\n",
            "Requirement already satisfied: idna<4,>=2.5 in c:\\users\\zacat\\onedrive\\documentos\\investigacion\\rubrix prueba\\rb_venv3715\\lib\\site-packages (from requests->fsspec[http]!=2021.06.0,>=2021.05.0->pytorch_lightning) (3.4)\n",
            "Requirement already satisfied: urllib3<1.27,>=1.21.1 in c:\\users\\zacat\\onedrive\\documentos\\investigacion\\rubrix prueba\\rb_venv3715\\lib\\site-packages (from requests->fsspec[http]!=2021.06.0,>=2021.05.0->pytorch_lightning) (1.26.12)\n",
            "Requirement already satisfied: MarkupSafe>=2.1.1 in c:\\users\\zacat\\onedrive\\documentos\\investigacion\\rubrix prueba\\rb_venv3715\\lib\\site-packages (from werkzeug>=1.0.1->tensorboard>=2.9.1->pytorch_lightning) (2.1.1)\n",
            "Requirement already satisfied: zipp>=0.5 in c:\\users\\zacat\\onedrive\\documentos\\investigacion\\rubrix prueba\\rb_venv3715\\lib\\site-packages (from importlib-metadata>=4.4->markdown>=2.6.8->tensorboard>=2.9.1->pytorch_lightning) (3.9.0)\n",
            "Requirement already satisfied: pyasn1<0.5.0,>=0.4.6 in c:\\users\\zacat\\onedrive\\documentos\\investigacion\\rubrix prueba\\rb_venv3715\\lib\\site-packages (from pyasn1-modules>=0.2.1->google-auth<3,>=1.6.3->tensorboard>=2.9.1->pytorch_lightning) (0.4.8)\n",
            "Requirement already satisfied: oauthlib>=3.0.0 in c:\\users\\zacat\\onedrive\\documentos\\investigacion\\rubrix prueba\\rb_venv3715\\lib\\site-packages (from requests-oauthlib>=0.7.0->google-auth-oauthlib<0.5,>=0.4.1->tensorboard>=2.9.1->pytorch_lightning) (3.2.2)\n",
            "Installing collected packages: torch\n",
            "  Attempting uninstall: torch\n",
            "    Found existing installation: torch 1.8.0\n",
            "    Uninstalling torch-1.8.0:\n",
            "      Successfully uninstalled torch-1.8.0\n",
            "Successfully installed torch-1.12.1\n"
          ]
        }
      ],
      "source": [
        "!pip install pytorch_lightning"
      ]
    },
    {
      "cell_type": "code",
      "execution_count": 4,
      "metadata": {
        "id": "KSWqW2mvx43s"
      },
      "outputs": [],
      "source": [
        "import kglab\n",
        "\n",
        "NAMESPACES = {\n",
        "    \"wtm\":  \"http://purl.org/heals/food/\",\n",
        "    \"ind\":  \"http://purl.org/heals/ingredient/\",\n",
        "    \"recipe\":  \"https://www.food.com/recipe/\",\n",
        "    }\n",
        "\n",
        "kg = kglab.KnowledgeGraph(namespaces = NAMESPACES)\n",
        "\n",
        "# _ = kg.load_rdf(\"data/recipe_lg.ttl\")\n",
        "# _ = kg.load_rdf(\"/content/drive/MyDrive/CIC/RDFs/recipes.ttl\")\n",
        "_ = kg.load_rdf(\"recipes.ttl\")\n"
      ]
    },
    {
      "cell_type": "markdown",
      "metadata": {
        "id": "F3hFlu6Qy7wE"
      },
      "source": [
        "## Algunas métricas"
      ]
    },
    {
      "cell_type": "code",
      "execution_count": 5,
      "metadata": {
        "colab": {
          "base_uri": "https://localhost:8080/",
          "height": 35
        },
        "id": "g3Q7fPJmy3vP",
        "outputId": "8c76a2b7-30ca-47d0-c257-4778f5b26984"
      },
      "outputs": [
        {
          "data": {
            "text/plain": [
              "'Nodes: 286 ; Edges: 1891'"
            ]
          },
          "execution_count": 5,
          "metadata": {},
          "output_type": "execute_result"
        }
      ],
      "source": [
        "measure = kglab.Measure()\n",
        "measure.measure_graph(kg)\n",
        "\n",
        "f\"Nodes: {measure.get_node_count()} ; Edges: {measure.get_edge_count()}\""
      ]
    },
    {
      "cell_type": "code",
      "execution_count": 18,
      "metadata": {
        "colab": {
          "base_uri": "https://localhost:8080/",
          "height": 488
        },
        "id": "cteCJljNy-su",
        "outputId": "3ea26817-5959-4b4c-a983-01c814e547d1"
      },
      "outputs": [
        {
          "data": {
            "text/html": [
              "<div>\n",
              "<style scoped>\n",
              "    .dataframe tbody tr th:only-of-type {\n",
              "        vertical-align: middle;\n",
              "    }\n",
              "\n",
              "    .dataframe tbody tr th {\n",
              "        vertical-align: top;\n",
              "    }\n",
              "\n",
              "    .dataframe thead th {\n",
              "        text-align: right;\n",
              "    }\n",
              "</style>\n",
              "<table border=\"1\" class=\"dataframe\">\n",
              "  <thead>\n",
              "    <tr style=\"text-align: right;\">\n",
              "      <th></th>\n",
              "      <th>count</th>\n",
              "    </tr>\n",
              "  </thead>\n",
              "  <tbody>\n",
              "    <tr>\n",
              "      <th>http://purl.org/heals/food/hasIngredient</th>\n",
              "      <td>1078</td>\n",
              "    </tr>\n",
              "    <tr>\n",
              "      <th>http://www.w3.org/1999/02/22-rdf-syntax-ns#type</th>\n",
              "      <td>286</td>\n",
              "    </tr>\n",
              "    <tr>\n",
              "      <th>http://www.w3.org/2004/02/skos/core#definition</th>\n",
              "      <td>249</td>\n",
              "    </tr>\n",
              "    <tr>\n",
              "      <th>http://purl.org/heals/food/hasCookTime</th>\n",
              "      <td>240</td>\n",
              "    </tr>\n",
              "    <tr>\n",
              "      <th>http://www.w3.org/2004/02/skos/core#prefLabel</th>\n",
              "      <td>9</td>\n",
              "    </tr>\n",
              "    <tr>\n",
              "      <th>http://purl.org/dc/terms/identifier</th>\n",
              "      <td>7</td>\n",
              "    </tr>\n",
              "    <tr>\n",
              "      <th>http://www.w3.org/2004/02/skos/core#altLabel</th>\n",
              "      <td>5</td>\n",
              "    </tr>\n",
              "    <tr>\n",
              "      <th>http://www.w3.org/2004/02/skos/core#narrower</th>\n",
              "      <td>5</td>\n",
              "    </tr>\n",
              "    <tr>\n",
              "      <th>http://www.w3.org/2004/02/skos/core#closeMatch</th>\n",
              "      <td>3</td>\n",
              "    </tr>\n",
              "    <tr>\n",
              "      <th>http://www.w3.org/2000/01/rdf-schema#range</th>\n",
              "      <td>2</td>\n",
              "    </tr>\n",
              "    <tr>\n",
              "      <th>http://example.org/#usesProcess</th>\n",
              "      <td>2</td>\n",
              "    </tr>\n",
              "    <tr>\n",
              "      <th>http://example.org/#madeFrom</th>\n",
              "      <td>2</td>\n",
              "    </tr>\n",
              "    <tr>\n",
              "      <th>http://www.w3.org/2000/01/rdf-schema#domain</th>\n",
              "      <td>2</td>\n",
              "    </tr>\n",
              "    <tr>\n",
              "      <th>http://purl.org/dc/terms/publisher</th>\n",
              "      <td>1</td>\n",
              "    </tr>\n",
              "  </tbody>\n",
              "</table>\n",
              "</div>"
            ],
            "text/plain": [
              "                                                 count\n",
              "http://purl.org/heals/food/hasIngredient          1078\n",
              "http://www.w3.org/1999/02/22-rdf-syntax-ns#type    286\n",
              "http://www.w3.org/2004/02/skos/core#definition     249\n",
              "http://purl.org/heals/food/hasCookTime             240\n",
              "http://www.w3.org/2004/02/skos/core#prefLabel        9\n",
              "http://purl.org/dc/terms/identifier                  7\n",
              "http://www.w3.org/2004/02/skos/core#altLabel         5\n",
              "http://www.w3.org/2004/02/skos/core#narrower         5\n",
              "http://www.w3.org/2004/02/skos/core#closeMatch       3\n",
              "http://www.w3.org/2000/01/rdf-schema#range           2\n",
              "http://example.org/#usesProcess                      2\n",
              "http://example.org/#madeFrom                         2\n",
              "http://www.w3.org/2000/01/rdf-schema#domain          2\n",
              "http://purl.org/dc/terms/publisher                   1"
            ]
          },
          "execution_count": 18,
          "metadata": {},
          "output_type": "execute_result"
        }
      ],
      "source": [
        "measure.p_gen.get_tally() # tallies the counts of predicates"
      ]
    },
    {
      "cell_type": "code",
      "execution_count": 14,
      "metadata": {
        "colab": {
          "base_uri": "https://localhost:8080/",
          "height": 363
        },
        "id": "HdMvvm7ly_xV",
        "outputId": "928f2903-98c8-4715-9568-130dfe35940c"
      },
      "outputs": [
        {
          "data": {
            "text/html": [
              "<div>\n",
              "<style scoped>\n",
              "    .dataframe tbody tr th:only-of-type {\n",
              "        vertical-align: middle;\n",
              "    }\n",
              "\n",
              "    .dataframe tbody tr th {\n",
              "        vertical-align: top;\n",
              "    }\n",
              "\n",
              "    .dataframe thead th {\n",
              "        text-align: right;\n",
              "    }\n",
              "</style>\n",
              "<table border=\"1\" class=\"dataframe\">\n",
              "  <thead>\n",
              "    <tr style=\"text-align: right;\">\n",
              "      <th></th>\n",
              "      <th>count</th>\n",
              "    </tr>\n",
              "  </thead>\n",
              "  <tbody>\n",
              "    <tr>\n",
              "      <th>https://www.food.com/recipe/103964</th>\n",
              "      <td>11</td>\n",
              "    </tr>\n",
              "    <tr>\n",
              "      <th>https://www.food.com/recipe/220361</th>\n",
              "      <td>10</td>\n",
              "    </tr>\n",
              "    <tr>\n",
              "      <th>https://www.food.com/recipe/137158</th>\n",
              "      <td>10</td>\n",
              "    </tr>\n",
              "    <tr>\n",
              "      <th>https://www.food.com/recipe/123656</th>\n",
              "      <td>10</td>\n",
              "    </tr>\n",
              "    <tr>\n",
              "      <th>https://www.food.com/recipe/111008</th>\n",
              "      <td>10</td>\n",
              "    </tr>\n",
              "    <tr>\n",
              "      <th>https://www.food.com/recipe/151617</th>\n",
              "      <td>10</td>\n",
              "    </tr>\n",
              "    <tr>\n",
              "      <th>https://www.food.com/recipe/268209</th>\n",
              "      <td>10</td>\n",
              "    </tr>\n",
              "    <tr>\n",
              "      <th>http://example.org/#Pancake</th>\n",
              "      <td>10</td>\n",
              "    </tr>\n",
              "    <tr>\n",
              "      <th>https://www.food.com/recipe/135405</th>\n",
              "      <td>10</td>\n",
              "    </tr>\n",
              "    <tr>\n",
              "      <th>https://www.food.com/recipe/430777</th>\n",
              "      <td>10</td>\n",
              "    </tr>\n",
              "  </tbody>\n",
              "</table>\n",
              "</div>"
            ],
            "text/plain": [
              "                                    count\n",
              "https://www.food.com/recipe/103964     11\n",
              "https://www.food.com/recipe/220361     10\n",
              "https://www.food.com/recipe/137158     10\n",
              "https://www.food.com/recipe/123656     10\n",
              "https://www.food.com/recipe/111008     10\n",
              "https://www.food.com/recipe/151617     10\n",
              "https://www.food.com/recipe/268209     10\n",
              "http://example.org/#Pancake            10\n",
              "https://www.food.com/recipe/135405     10\n",
              "https://www.food.com/recipe/430777     10"
            ]
          },
          "execution_count": 14,
          "metadata": {},
          "output_type": "execute_result"
        }
      ],
      "source": [
        "measure.s_gen.get_tally()[:10] # tallies the counts of subjects"
      ]
    },
    {
      "cell_type": "code",
      "execution_count": 15,
      "metadata": {
        "colab": {
          "base_uri": "https://localhost:8080/",
          "height": 363
        },
        "id": "NKJyfIUvzBCa",
        "outputId": "8b843b0b-4d9b-4a28-8f4e-b5b2a0a68966"
      },
      "outputs": [
        {
          "data": {
            "text/html": [
              "<div>\n",
              "<style scoped>\n",
              "    .dataframe tbody tr th:only-of-type {\n",
              "        vertical-align: middle;\n",
              "    }\n",
              "\n",
              "    .dataframe tbody tr th {\n",
              "        vertical-align: top;\n",
              "    }\n",
              "\n",
              "    .dataframe thead th {\n",
              "        text-align: right;\n",
              "    }\n",
              "</style>\n",
              "<table border=\"1\" class=\"dataframe\">\n",
              "  <thead>\n",
              "    <tr style=\"text-align: right;\">\n",
              "      <th></th>\n",
              "      <th>count</th>\n",
              "    </tr>\n",
              "  </thead>\n",
              "  <tbody>\n",
              "    <tr>\n",
              "      <th>http://purl.org/heals/food/Recipe</th>\n",
              "      <td>240</td>\n",
              "    </tr>\n",
              "    <tr>\n",
              "      <th>http://purl.org/heals/ingredient/AllPurposeFlour</th>\n",
              "      <td>190</td>\n",
              "    </tr>\n",
              "    <tr>\n",
              "      <th>http://purl.org/heals/ingredient/ChickenEgg</th>\n",
              "      <td>170</td>\n",
              "    </tr>\n",
              "    <tr>\n",
              "      <th>http://purl.org/heals/ingredient/Salt</th>\n",
              "      <td>158</td>\n",
              "    </tr>\n",
              "    <tr>\n",
              "      <th>http://purl.org/heals/ingredient/Butter</th>\n",
              "      <td>147</td>\n",
              "    </tr>\n",
              "    <tr>\n",
              "      <th>http://purl.org/heals/ingredient/CowMilk</th>\n",
              "      <td>132</td>\n",
              "    </tr>\n",
              "    <tr>\n",
              "      <th>http://purl.org/heals/ingredient/WhiteSugar</th>\n",
              "      <td>99</td>\n",
              "    </tr>\n",
              "    <tr>\n",
              "      <th>http://purl.org/heals/ingredient/Water</th>\n",
              "      <td>70</td>\n",
              "    </tr>\n",
              "    <tr>\n",
              "      <th>http://purl.org/heals/ingredient/VanillaExtract</th>\n",
              "      <td>54</td>\n",
              "    </tr>\n",
              "    <tr>\n",
              "      <th>http://example.org/#Noodle</th>\n",
              "      <td>21</td>\n",
              "    </tr>\n",
              "  </tbody>\n",
              "</table>\n",
              "</div>"
            ],
            "text/plain": [
              "                                                  count\n",
              "http://purl.org/heals/food/Recipe                   240\n",
              "http://purl.org/heals/ingredient/AllPurposeFlour    190\n",
              "http://purl.org/heals/ingredient/ChickenEgg         170\n",
              "http://purl.org/heals/ingredient/Salt               158\n",
              "http://purl.org/heals/ingredient/Butter             147\n",
              "http://purl.org/heals/ingredient/CowMilk            132\n",
              "http://purl.org/heals/ingredient/WhiteSugar          99\n",
              "http://purl.org/heals/ingredient/Water               70\n",
              "http://purl.org/heals/ingredient/VanillaExtract      54\n",
              "http://example.org/#Noodle                           21"
            ]
          },
          "execution_count": 15,
          "metadata": {},
          "output_type": "execute_result"
        }
      ],
      "source": [
        "measure.o_gen.get_tally()[:10] # tallies the counts of objects"
      ]
    },
    {
      "cell_type": "code",
      "execution_count": 16,
      "metadata": {
        "colab": {
          "base_uri": "https://localhost:8080/",
          "height": 363
        },
        "id": "bDzgsb7VzCUU",
        "outputId": "f79d8f01-45a0-4cb0-8614-9032aff550f0"
      },
      "outputs": [
        {
          "data": {
            "text/html": [
              "<div>\n",
              "<style scoped>\n",
              "    .dataframe tbody tr th:only-of-type {\n",
              "        vertical-align: middle;\n",
              "    }\n",
              "\n",
              "    .dataframe tbody tr th {\n",
              "        vertical-align: top;\n",
              "    }\n",
              "\n",
              "    .dataframe thead th {\n",
              "        text-align: right;\n",
              "    }\n",
              "</style>\n",
              "<table border=\"1\" class=\"dataframe\">\n",
              "  <thead>\n",
              "    <tr style=\"text-align: right;\">\n",
              "      <th></th>\n",
              "      <th>count</th>\n",
              "    </tr>\n",
              "  </thead>\n",
              "  <tbody>\n",
              "    <tr>\n",
              "      <th>PT30M</th>\n",
              "      <td>29</td>\n",
              "    </tr>\n",
              "    <tr>\n",
              "      <th>PT20M</th>\n",
              "      <td>21</td>\n",
              "    </tr>\n",
              "    <tr>\n",
              "      <th>PT25M</th>\n",
              "      <td>20</td>\n",
              "    </tr>\n",
              "    <tr>\n",
              "      <th>PT35M</th>\n",
              "      <td>18</td>\n",
              "    </tr>\n",
              "    <tr>\n",
              "      <th>PT40M</th>\n",
              "      <td>18</td>\n",
              "    </tr>\n",
              "    <tr>\n",
              "      <th>PT10M</th>\n",
              "      <td>12</td>\n",
              "    </tr>\n",
              "    <tr>\n",
              "      <th>PT15M</th>\n",
              "      <td>11</td>\n",
              "    </tr>\n",
              "    <tr>\n",
              "      <th>PT1H</th>\n",
              "      <td>10</td>\n",
              "    </tr>\n",
              "    <tr>\n",
              "      <th>PT5M</th>\n",
              "      <td>8</td>\n",
              "    </tr>\n",
              "    <tr>\n",
              "      <th>PT55M</th>\n",
              "      <td>7</td>\n",
              "    </tr>\n",
              "  </tbody>\n",
              "</table>\n",
              "</div>"
            ],
            "text/plain": [
              "       count\n",
              "PT30M     29\n",
              "PT20M     21\n",
              "PT25M     20\n",
              "PT35M     18\n",
              "PT40M     18\n",
              "PT10M     12\n",
              "PT15M     11\n",
              "PT1H      10\n",
              "PT5M       8\n",
              "PT55M      7"
            ]
          },
          "execution_count": 16,
          "metadata": {},
          "output_type": "execute_result"
        }
      ],
      "source": [
        "measure.l_gen.get_tally()[:10] # tallies the counts of literals"
      ]
    },
    {
      "cell_type": "markdown",
      "metadata": {
        "id": "sDHoM4SR4Dn8"
      },
      "source": [
        "## KG --> Pytorch Tensor"
      ]
    },
    {
      "cell_type": "code",
      "execution_count": 6,
      "metadata": {
        "id": "-O9zKPVFzDiv"
      },
      "outputs": [],
      "source": [
        "sg = kglab.SubgraphTensor(kg)"
      ]
    },
    {
      "cell_type": "code",
      "execution_count": 8,
      "metadata": {
        "id": "w7M12Mkm4LAx"
      },
      "outputs": [],
      "source": [
        "def to_edge_list(g, sg, excludes):\n",
        "    def exclude(rel):\n",
        "        return sg.n3fy(rel) in excludes\n",
        "\n",
        "    relations = sorted(set(g.predicates()))\n",
        "    subjects = set(g.subjects())\n",
        "    objects = set(g.objects())\n",
        "    nodes = list(subjects.union(objects))\n",
        "\n",
        "    relations_dict = {rel: i for i, rel in enumerate(list(relations)) if not exclude(rel)}\n",
        "\n",
        "    # this offset enables consecutive indices in our final vector\n",
        "    offset = len(relations_dict.keys())\n",
        "\n",
        "    nodes_dict = {node: i+offset for i, node in enumerate(nodes)}\n",
        "\n",
        "\n",
        "    edge_list = []\n",
        "\n",
        "    for s, p, o in g.triples((None, None, None)):\n",
        "        if p in relations_dict.keys(): # this means is not excluded\n",
        "            src, dst, rel = nodes_dict[s], nodes_dict[o], relations_dict[p]\n",
        "            edge_list.append([src, dst, 2 * rel])\n",
        "            edge_list.append([dst, src, 2 * rel + 1])\n",
        "\n",
        "    # turn into str keys and concat\n",
        "    node_vector = [sg.n3fy(node) for node in relations_dict.keys()] + [sg.n3fy(node) for node in nodes_dict.keys()]\n",
        "    return edge_list, node_vector"
      ]
    },
    {
      "cell_type": "code",
      "execution_count": 9,
      "metadata": {
        "id": "Zh7sxolE4RDb"
      },
      "outputs": [],
      "source": [
        "edge_list, node_vector = to_edge_list(kg.rdf_graph(), sg, excludes=['skos:description', 'skos:prefLabel'])"
      ]
    },
    {
      "cell_type": "code",
      "execution_count": 22,
      "metadata": {
        "colab": {
          "base_uri": "https://localhost:8080/"
        },
        "id": "PmVy9FDV4Swz",
        "outputId": "48e409f3-eede-45e7-b025-10488a1c763d"
      },
      "outputs": [
        {
          "data": {
            "text/plain": [
              "(3764,\n",
              " [[156, 214, 12],\n",
              "  [214, 156, 13],\n",
              "  [442, 448, 10],\n",
              "  [448, 442, 11],\n",
              "  [354, 214, 12]])"
            ]
          },
          "execution_count": 22,
          "metadata": {},
          "output_type": "execute_result"
        }
      ],
      "source": [
        "len(edge_list) , edge_list[0:5]"
      ]
    },
    {
      "cell_type": "code",
      "execution_count": 21,
      "metadata": {
        "colab": {
          "base_uri": "https://localhost:8080/"
        },
        "id": "HjBG-5Q-4v9Z",
        "outputId": "545733a9-9d55-49be-b601-63035571cf7e"
      },
      "outputs": [
        {
          "data": {
            "text/plain": [
              "['nom:madeFrom',\n",
              " 'nom:usesProcess',\n",
              " 'dct:identifier',\n",
              " 'dct:publisher',\n",
              " 'wtm:hasCookTime',\n",
              " 'wtm:hasIngredient',\n",
              " 'rdf:type',\n",
              " 'rdfs:domain',\n",
              " 'rdfs:range',\n",
              " 'skos:altLabel']"
            ]
          },
          "execution_count": 21,
          "metadata": {},
          "output_type": "execute_result"
        }
      ],
      "source": [
        "node_vector[:10]"
      ]
    },
    {
      "cell_type": "markdown",
      "metadata": {
        "id": "mURwvKKF4k1z"
      },
      "source": [
        "## Diccionario de datos para codificar y decodificar datos"
      ]
    },
    {
      "cell_type": "code",
      "execution_count": 10,
      "metadata": {
        "id": "tTCBN9ec4Vhq"
      },
      "outputs": [],
      "source": [
        "sg = kglab.Subgraph(kg=kg, preload=node_vector)"
      ]
    },
    {
      "cell_type": "code",
      "execution_count": 11,
      "metadata": {
        "id": "3TiS3c3I429r"
      },
      "outputs": [],
      "source": [
        "import torch\n",
        "from torch_geometric.data import Data\n",
        "\n",
        "tensor = torch.tensor(edge_list, dtype=torch.long).t().contiguous()\n",
        "edge_index, edge_type = tensor[:2], tensor[2]\n",
        "data = Data(edge_index=edge_index)\n",
        "data.edge_type = edge_type"
      ]
    },
    {
      "cell_type": "code",
      "execution_count": null,
      "metadata": {
        "colab": {
          "base_uri": "https://localhost:8080/"
        },
        "id": "N9voYPhE46Eb",
        "outputId": "32cab2cb-e952-448c-8c8b-850772d9fbb0"
      },
      "outputs": [],
      "source": [
        "(data.edge_index.shape, data.edge_type.shape, data.edge_type.max())\n"
      ]
    },
    {
      "cell_type": "markdown",
      "metadata": {
        "id": "x-LFKwzq7XI3"
      },
      "source": [
        "## Creando training set con Rubrix\n",
        "### -> Uso de un método supervisado \"sencillo\" (snorkel?)\n",
        "### -> rb.log para registrar datos sin clasificación\n",
        "### -> Uso de webapp para asociar etiquetas definidas por nosotros (aprendizaje semisupervisado ?)\n",
        "### -> rb.load() regresa un pd.Dataframe para luego hacer uso de la función sklearn.train_test_split()\n",
        "### -> Después del entrenamiento se puede clasificar los datos sin etiqueta."
      ]
    },
    {
      "cell_type": "code",
      "execution_count": 12,
      "metadata": {
        "id": "CNwwpn1-8Y8-"
      },
      "outputs": [],
      "source": [
        "LABELS = ['Bitter', 'Meaty', 'Piquant', 'Salty', 'Sour', 'Sweet']\n"
      ]
    },
    {
      "cell_type": "markdown",
      "metadata": {
        "id": "jmlOrnAr8isY"
      },
      "source": [
        "# Rubrix setup"
      ]
    },
    {
      "cell_type": "code",
      "execution_count": 53,
      "metadata": {
        "colab": {
          "base_uri": "https://localhost:8080/"
        },
        "id": "61CWXgGA8iOc",
        "outputId": "f173352c-9572-45c7-d7a2-6ac0775ba7c4"
      },
      "outputs": [
        {
          "name": "stdout",
          "output_type": "stream",
          "text": [
            "Collecting rubrix==0.6.2\n",
            "  Downloading rubrix-0.6.2-py3-none-any.whl (1.1 MB)\n",
            "     ---------------------------------------- 1.1/1.1 MB 5.9 MB/s eta 0:00:00\n",
            "Requirement already satisfied: httpx~=0.15.0 in c:\\users\\zacat\\onedrive\\documentos\\investigacion\\rubrix prueba\\rb_venv3715\\lib\\site-packages (from rubrix==0.6.2) (0.15.5)\n",
            "Requirement already satisfied: numpy in c:\\users\\zacat\\onedrive\\documentos\\investigacion\\rubrix prueba\\rb_venv3715\\lib\\site-packages (from rubrix==0.6.2) (1.21.6)\n",
            "Requirement already satisfied: starlette<1.0.0,>=0.13.0 in c:\\users\\zacat\\onedrive\\documentos\\investigacion\\rubrix prueba\\rb_venv3715\\lib\\site-packages (from rubrix==0.6.2) (0.17.1)\n",
            "Requirement already satisfied: tqdm>=4.27.0 in c:\\users\\zacat\\onedrive\\documentos\\investigacion\\rubrix prueba\\rb_venv3715\\lib\\site-packages (from rubrix==0.6.2) (4.64.1)\n",
            "Requirement already satisfied: pandas<2.0.0,>=1.0.0 in c:\\users\\zacat\\onedrive\\documentos\\investigacion\\rubrix prueba\\rb_venv3715\\lib\\site-packages (from rubrix==0.6.2) (1.3.5)\n",
            "Requirement already satisfied: pydantic>=1.7.1 in c:\\users\\zacat\\onedrive\\documentos\\investigacion\\rubrix prueba\\rb_venv3715\\lib\\site-packages (from rubrix==0.6.2) (1.10.2)\n",
            "Requirement already satisfied: wrapt~=1.13.0 in c:\\users\\zacat\\onedrive\\documentos\\investigacion\\rubrix prueba\\rb_venv3715\\lib\\site-packages (from rubrix==0.6.2) (1.13.3)\n",
            "Requirement already satisfied: sniffio in c:\\users\\zacat\\onedrive\\documentos\\investigacion\\rubrix prueba\\rb_venv3715\\lib\\site-packages (from httpx~=0.15.0->rubrix==0.6.2) (1.3.0)\n",
            "Requirement already satisfied: certifi in c:\\users\\zacat\\onedrive\\documentos\\investigacion\\rubrix prueba\\rb_venv3715\\lib\\site-packages (from httpx~=0.15.0->rubrix==0.6.2) (2022.9.24)\n",
            "Requirement already satisfied: httpcore==0.11.* in c:\\users\\zacat\\onedrive\\documentos\\investigacion\\rubrix prueba\\rb_venv3715\\lib\\site-packages (from httpx~=0.15.0->rubrix==0.6.2) (0.11.1)\n",
            "Requirement already satisfied: rfc3986[idna2008]<2,>=1.3 in c:\\users\\zacat\\onedrive\\documentos\\investigacion\\rubrix prueba\\rb_venv3715\\lib\\site-packages (from httpx~=0.15.0->rubrix==0.6.2) (1.5.0)\n",
            "Requirement already satisfied: h11<0.10,>=0.8 in c:\\users\\zacat\\onedrive\\documentos\\investigacion\\rubrix prueba\\rb_venv3715\\lib\\site-packages (from httpcore==0.11.*->httpx~=0.15.0->rubrix==0.6.2) (0.9.0)\n",
            "Requirement already satisfied: python-dateutil>=2.7.3 in c:\\users\\zacat\\onedrive\\documentos\\investigacion\\rubrix prueba\\rb_venv3715\\lib\\site-packages (from pandas<2.0.0,>=1.0.0->rubrix==0.6.2) (2.8.2)\n",
            "Requirement already satisfied: pytz>=2017.3 in c:\\users\\zacat\\onedrive\\documentos\\investigacion\\rubrix prueba\\rb_venv3715\\lib\\site-packages (from pandas<2.0.0,>=1.0.0->rubrix==0.6.2) (2022.4)\n",
            "Requirement already satisfied: typing-extensions>=4.1.0 in c:\\users\\zacat\\onedrive\\documentos\\investigacion\\rubrix prueba\\rb_venv3715\\lib\\site-packages (from pydantic>=1.7.1->rubrix==0.6.2) (4.4.0)\n",
            "Requirement already satisfied: anyio<4,>=3.0.0 in c:\\users\\zacat\\onedrive\\documentos\\investigacion\\rubrix prueba\\rb_venv3715\\lib\\site-packages (from starlette<1.0.0,>=0.13.0->rubrix==0.6.2) (3.6.1)\n",
            "Requirement already satisfied: colorama in c:\\users\\zacat\\onedrive\\documentos\\investigacion\\rubrix prueba\\rb_venv3715\\lib\\site-packages (from tqdm>=4.27.0->rubrix==0.6.2) (0.4.5)\n",
            "Requirement already satisfied: idna>=2.8 in c:\\users\\zacat\\onedrive\\documentos\\investigacion\\rubrix prueba\\rb_venv3715\\lib\\site-packages (from anyio<4,>=3.0.0->starlette<1.0.0,>=0.13.0->rubrix==0.6.2) (3.4)\n",
            "Requirement already satisfied: six>=1.5 in c:\\users\\zacat\\onedrive\\documentos\\investigacion\\rubrix prueba\\rb_venv3715\\lib\\site-packages (from python-dateutil>=2.7.3->pandas<2.0.0,>=1.0.0->rubrix==0.6.2) (1.16.0)\n",
            "Installing collected packages: rubrix\n",
            "  Attempting uninstall: rubrix\n",
            "    Found existing installation: rubrix 0.1.0\n",
            "    Uninstalling rubrix-0.1.0:\n",
            "      Successfully uninstalled rubrix-0.1.0\n",
            "Successfully installed rubrix-0.6.2\n",
            "Requirement already satisfied: loguru in c:\\users\\zacat\\onedrive\\documentos\\investigacion\\rubrix prueba\\rb_venv3715\\lib\\site-packages (0.6.0)\n",
            "Requirement already satisfied: win32-setctime>=1.0.0 in c:\\users\\zacat\\onedrive\\documentos\\investigacion\\rubrix prueba\\rb_venv3715\\lib\\site-packages (from loguru) (1.1.0)\n",
            "Requirement already satisfied: colorama>=0.3.4 in c:\\users\\zacat\\onedrive\\documentos\\investigacion\\rubrix prueba\\rb_venv3715\\lib\\site-packages (from loguru) (0.4.5)\n"
          ]
        }
      ],
      "source": [
        "# !pip install rubrix==0.1.0\n",
        "# !pip install rubrix\n",
        "!pip install rubrix==0.6.2\n",
        "# !pip install \"rubrix[server]\"==0.1.0\n",
        "!pip install loguru"
      ]
    },
    {
      "cell_type": "code",
      "execution_count": 54,
      "metadata": {
        "id": "bzecWT-Q8Z7D"
      },
      "outputs": [],
      "source": [
        "import rubrix as rb\n"
      ]
    },
    {
      "cell_type": "markdown",
      "metadata": {
        "id": "eTufTtaZ81HE"
      },
      "source": [
        "# Preparando un \"raw\" dataset de recetas e ingredientes"
      ]
    },
    {
      "cell_type": "code",
      "execution_count": 55,
      "metadata": {
        "colab": {
          "base_uri": "https://localhost:8080/",
          "height": 641
        },
        "id": "2klh_fMy8awp",
        "outputId": "777259e1-0a3c-4a19-f2a3-c47920879fd5"
      },
      "outputs": [
        {
          "data": {
            "text/html": [
              "<div>\n",
              "<style scoped>\n",
              "    .dataframe tbody tr th:only-of-type {\n",
              "        vertical-align: middle;\n",
              "    }\n",
              "\n",
              "    .dataframe tbody tr th {\n",
              "        vertical-align: top;\n",
              "    }\n",
              "\n",
              "    .dataframe thead th {\n",
              "        text-align: right;\n",
              "    }\n",
              "</style>\n",
              "<table border=\"1\" class=\"dataframe\">\n",
              "  <thead>\n",
              "    <tr style=\"text-align: right;\">\n",
              "      <th></th>\n",
              "      <th>uri</th>\n",
              "      <th>definition</th>\n",
              "      <th>type</th>\n",
              "      <th>ingredients</th>\n",
              "    </tr>\n",
              "  </thead>\n",
              "  <tbody>\n",
              "    <tr>\n",
              "      <th>0</th>\n",
              "      <td>recipe:100230</td>\n",
              "      <td>astoria frosting</td>\n",
              "      <td>wtm:Recipe</td>\n",
              "      <td>[ind:AllPurposeFlour, ind:Butter, ind:CowMilk,...</td>\n",
              "    </tr>\n",
              "    <tr>\n",
              "      <th>1</th>\n",
              "      <td>recipe:101876</td>\n",
              "      <td>wheat thins</td>\n",
              "      <td>wtm:Recipe</td>\n",
              "      <td>[ind:Butter, ind:Salt, ind:VanillaExtract, ind...</td>\n",
              "    </tr>\n",
              "    <tr>\n",
              "      <th>2</th>\n",
              "      <td>recipe:103073</td>\n",
              "      <td>simple popovers</td>\n",
              "      <td>wtm:Recipe</td>\n",
              "      <td>[ind:AllPurposeFlour, ind:Butter, ind:ChickenE...</td>\n",
              "    </tr>\n",
              "    <tr>\n",
              "      <th>3</th>\n",
              "      <td>recipe:103964</td>\n",
              "      <td>spatzle  little german noodle dumplings</td>\n",
              "      <td>nom:Noodle</td>\n",
              "      <td>[ind:AllPurposeFlour, ind:BlackPepper, ind:But...</td>\n",
              "    </tr>\n",
              "    <tr>\n",
              "      <th>4</th>\n",
              "      <td>recipe:103964</td>\n",
              "      <td>spatzle  little german noodle dumplings</td>\n",
              "      <td>wtm:Recipe</td>\n",
              "      <td>[ind:AllPurposeFlour, ind:BlackPepper, ind:But...</td>\n",
              "    </tr>\n",
              "    <tr>\n",
              "      <th>...</th>\n",
              "      <td>...</td>\n",
              "      <td>...</td>\n",
              "      <td>...</td>\n",
              "      <td>...</td>\n",
              "    </tr>\n",
              "    <tr>\n",
              "      <th>272</th>\n",
              "      <td>recipe:93990</td>\n",
              "      <td>egg roll wrappers</td>\n",
              "      <td>wtm:Recipe</td>\n",
              "      <td>[ind:AllPurposeFlour, ind:ChickenEgg, ind:Salt...</td>\n",
              "    </tr>\n",
              "    <tr>\n",
              "      <th>273</th>\n",
              "      <td>recipe:94616</td>\n",
              "      <td>milk frosting</td>\n",
              "      <td>wtm:Recipe</td>\n",
              "      <td>[ind:Butter, ind:CowMilk, ind:VanillaExtract, ...</td>\n",
              "    </tr>\n",
              "    <tr>\n",
              "      <th>274</th>\n",
              "      <td>recipe:95116</td>\n",
              "      <td>the easiest  shortcrust pastry</td>\n",
              "      <td>wtm:Recipe</td>\n",
              "      <td>[ind:AllPurposeFlour, ind:Butter, ind:WhiteSugar]</td>\n",
              "    </tr>\n",
              "    <tr>\n",
              "      <th>275</th>\n",
              "      <td>recipe:96087</td>\n",
              "      <td>fresh made manicotti or cannelloni crepes shells</td>\n",
              "      <td>wtm:Recipe</td>\n",
              "      <td>[ind:AllPurposeFlour, ind:ChickenEgg, ind:CowM...</td>\n",
              "    </tr>\n",
              "    <tr>\n",
              "      <th>276</th>\n",
              "      <td>recipe:97832</td>\n",
              "      <td>english shortbread</td>\n",
              "      <td>wtm:Recipe</td>\n",
              "      <td>[ind:AllPurposeFlour, ind:Butter, ind:WhiteSugar]</td>\n",
              "    </tr>\n",
              "  </tbody>\n",
              "</table>\n",
              "<p>277 rows × 4 columns</p>\n",
              "</div>"
            ],
            "text/plain": [
              "               uri                                        definition  \\\n",
              "0    recipe:100230                                  astoria frosting   \n",
              "1    recipe:101876                                       wheat thins   \n",
              "2    recipe:103073                                   simple popovers   \n",
              "3    recipe:103964           spatzle  little german noodle dumplings   \n",
              "4    recipe:103964           spatzle  little german noodle dumplings   \n",
              "..             ...                                               ...   \n",
              "272   recipe:93990                                 egg roll wrappers   \n",
              "273   recipe:94616                                     milk frosting   \n",
              "274   recipe:95116                    the easiest  shortcrust pastry   \n",
              "275   recipe:96087  fresh made manicotti or cannelloni crepes shells   \n",
              "276   recipe:97832                                english shortbread   \n",
              "\n",
              "           type                                        ingredients  \n",
              "0    wtm:Recipe  [ind:AllPurposeFlour, ind:Butter, ind:CowMilk,...  \n",
              "1    wtm:Recipe  [ind:Butter, ind:Salt, ind:VanillaExtract, ind...  \n",
              "2    wtm:Recipe  [ind:AllPurposeFlour, ind:Butter, ind:ChickenE...  \n",
              "3    nom:Noodle  [ind:AllPurposeFlour, ind:BlackPepper, ind:But...  \n",
              "4    wtm:Recipe  [ind:AllPurposeFlour, ind:BlackPepper, ind:But...  \n",
              "..          ...                                                ...  \n",
              "272  wtm:Recipe  [ind:AllPurposeFlour, ind:ChickenEgg, ind:Salt...  \n",
              "273  wtm:Recipe  [ind:Butter, ind:CowMilk, ind:VanillaExtract, ...  \n",
              "274  wtm:Recipe  [ind:AllPurposeFlour, ind:Butter, ind:WhiteSugar]  \n",
              "275  wtm:Recipe  [ind:AllPurposeFlour, ind:ChickenEgg, ind:CowM...  \n",
              "276  wtm:Recipe  [ind:AllPurposeFlour, ind:Butter, ind:WhiteSugar]  \n",
              "\n",
              "[277 rows x 4 columns]"
            ]
          },
          "execution_count": 55,
          "metadata": {},
          "output_type": "execute_result"
        }
      ],
      "source": [
        "import pandas as pd\n",
        "sparql = \"\"\"\n",
        "    SELECT distinct *\n",
        "    WHERE {\n",
        "        ?uri a wtm:Recipe .\n",
        "        ?uri a ?type .\n",
        "        ?uri skos:definition ?definition .\n",
        "        ?uri wtm:hasIngredient ?ingredient\n",
        "    }\n",
        "\"\"\"\n",
        "df = kg.query_as_df(sparql=sparql)\n",
        "\n",
        "# We group the ingredients into one column containing lists:\n",
        "recipes_df = df.groupby(['uri', 'definition', 'type'])['ingredient'].apply(list).reset_index(name='ingredients') ; recipes_df\n",
        "\n",
        "sparql_ingredients = \"\"\"\n",
        "    SELECT distinct *\n",
        "    WHERE {\n",
        "        ?uri a wtm:Ingredient .\n",
        "        ?uri a ?type .\n",
        "        OPTIONAL { ?uri skos:prefLabel ?definition }\n",
        "    }\n",
        "\"\"\"\n",
        "\n",
        "df = kg.query_as_df(sparql=sparql_ingredients)\n",
        "df['ingredients'] = None\n",
        "\n",
        "ing_recipes_df = pd.concat([recipes_df, df]).reset_index(drop=True)\n",
        "\n",
        "ing_recipes_df.fillna('', inplace=True) ; ing_recipes_df\n"
      ]
    },
    {
      "cell_type": "markdown",
      "metadata": {
        "id": "hHXRM3JK9ItR"
      },
      "source": [
        "# Logging into Rubrix"
      ]
    },
    {
      "cell_type": "code",
      "execution_count": 56,
      "metadata": {
        "id": "7kzWQwdB9G4E"
      },
      "outputs": [],
      "source": [
        "import rubrix as rb\n",
        "\n",
        "records = []\n",
        "for i, r in ing_recipes_df.iterrows():\n",
        "    item = rb.TextClassificationRecord(\n",
        "            inputs={\n",
        "                \"id\":r.uri,\n",
        "                \"definition\": r.definition,\n",
        "                \"ingredients\": str(r.ingredients),\n",
        "                \"type\": r.type\n",
        "            }, # log node fields\n",
        "            prediction=[(label, 0.0) for label in LABELS], # log \"dummy\" predictions for aiding annotation\n",
        "            metadata={'ingredients': [ing.replace('ind:','') for ing in r.ingredients], \"type\": r.type}, # metadata filters for quick exploration and annotation\n",
        "            prediction_agent=\"kglab_tutorial\", # who's performing/logging the prediction\n",
        "            multi_label=True\n",
        "        )\n",
        "    records.append(item)\n"
      ]
    },
    {
      "cell_type": "code",
      "execution_count": 57,
      "metadata": {
        "colab": {
          "base_uri": "https://localhost:8080/"
        },
        "id": "0tLENcX59Mhp",
        "outputId": "765e3e5c-6ed9-4330-ca23-43b978a6e4c5"
      },
      "outputs": [
        {
          "data": {
            "text/plain": [
              "277"
            ]
          },
          "execution_count": 57,
          "metadata": {},
          "output_type": "execute_result"
        }
      ],
      "source": [
        "len(records)\n"
      ]
    },
    {
      "cell_type": "code",
      "execution_count": 58,
      "metadata": {
        "colab": {
          "base_uri": "https://localhost:8080/",
          "height": 467
        },
        "id": "72Zcv2IR9PbR",
        "outputId": "fc2fb6da-b08e-490a-a3bd-9b7c593670a9"
      },
      "outputs": [
        {
          "name": "stderr",
          "output_type": "stream",
          "text": [
            "100%|██████████| 277/277 [00:09<00:00, 29.97it/s]"
          ]
        },
        {
          "name": "stdout",
          "output_type": "stream",
          "text": [
            "277 records logged to http://localhost:6900/datasets/rubrix/kg_classification_tutorial\n"
          ]
        },
        {
          "name": "stderr",
          "output_type": "stream",
          "text": [
            "\n"
          ]
        },
        {
          "data": {
            "text/plain": [
              "BulkResponse(dataset='kg_classification_tutorial', processed=277, failed=0)"
            ]
          },
          "execution_count": 58,
          "metadata": {},
          "output_type": "execute_result"
        }
      ],
      "source": [
        "rb.log(records=records, name=\"kg_classification_tutorial\")\n"
      ]
    },
    {
      "cell_type": "markdown",
      "metadata": {
        "id": "5qZrfqN99_nL"
      },
      "source": []
    },
    {
      "cell_type": "code",
      "execution_count": 59,
      "metadata": {
        "id": "37DoUzE09RUh"
      },
      "outputs": [
        {
          "ename": "AttributeError",
          "evalue": "module rubrix has no attribute snapshots",
          "output_type": "error",
          "traceback": [
            "\u001b[1;31m---------------------------------------------------------------------------\u001b[0m",
            "\u001b[1;31mAttributeError\u001b[0m                            Traceback (most recent call last)",
            "\u001b[1;32m~\\AppData\\Local\\Temp\\ipykernel_36828\\4148718124.py\u001b[0m in \u001b[0;36m<module>\u001b[1;34m\u001b[0m\n\u001b[0;32m      1\u001b[0m \u001b[1;32mimport\u001b[0m \u001b[0mrubrix\u001b[0m \u001b[1;32mas\u001b[0m \u001b[0mrb\u001b[0m\u001b[1;33m\u001b[0m\u001b[1;33m\u001b[0m\u001b[0m\n\u001b[1;32m----> 2\u001b[1;33m \u001b[0mrb\u001b[0m\u001b[1;33m.\u001b[0m\u001b[0msnapshots\u001b[0m\u001b[1;33m(\u001b[0m\u001b[0mname\u001b[0m\u001b[1;33m=\u001b[0m\u001b[1;34m\"kg_classification_tutorial\"\u001b[0m\u001b[1;33m)\u001b[0m\u001b[1;33m\u001b[0m\u001b[1;33m\u001b[0m\u001b[0m\n\u001b[0m",
            "\u001b[1;32mc:\\Users\\zacat\\OneDrive\\Documentos\\Investigacion\\Rubrix prueba\\rb_venv3715\\lib\\site-packages\\rubrix\\utils\\utils.py\u001b[0m in \u001b[0;36m__getattr__\u001b[1;34m(self, name)\u001b[0m\n",
            "\u001b[1;31mAttributeError\u001b[0m: module rubrix has no attribute snapshots"
          ]
        }
      ],
      "source": [
        "import rubrix as rb\n",
        "rb.snapshots(name=\"kg_classification_tutorial\")\n"
      ]
    },
    {
      "cell_type": "code",
      "execution_count": null,
      "metadata": {
        "id": "E3zGsp4r-ZgG"
      },
      "outputs": [],
      "source": [
        "dir(rb)"
      ]
    },
    {
      "cell_type": "code",
      "execution_count": 69,
      "metadata": {
        "id": "Zyld_Og7-lOI"
      },
      "outputs": [
        {
          "ename": "ValueError",
          "evalue": "('The argument `as_pandas` is deprecated and will be removed in a future version. Please adapt your code accordingly. ', \"If you want a pandas DataFrame do `rb.load('my_dataset').to_pandas()`.\")",
          "output_type": "error",
          "traceback": [
            "\u001b[1;31m---------------------------------------------------------------------------\u001b[0m",
            "\u001b[1;31mValueError\u001b[0m                                Traceback (most recent call last)",
            "\u001b[1;32m~\\AppData\\Local\\Temp\\ipykernel_36828\\2659412058.py\u001b[0m in \u001b[0;36m<module>\u001b[1;34m\u001b[0m\n\u001b[0;32m      1\u001b[0m \u001b[1;31m# df = rb.load(name=\"kg_classification_tutorial\", snapshot='1620136587.907149') ; df.head()\u001b[0m\u001b[1;33m\u001b[0m\u001b[1;33m\u001b[0m\u001b[1;33m\u001b[0m\u001b[0m\n\u001b[1;32m----> 2\u001b[1;33m \u001b[0mdf\u001b[0m \u001b[1;33m=\u001b[0m \u001b[0mrb\u001b[0m\u001b[1;33m.\u001b[0m\u001b[0mload\u001b[0m\u001b[1;33m(\u001b[0m\u001b[0mname\u001b[0m\u001b[1;33m=\u001b[0m\u001b[1;34m\"kg_classification_tutorial\"\u001b[0m\u001b[1;33m,\u001b[0m \u001b[0mas_pandas\u001b[0m\u001b[1;33m=\u001b[0m\u001b[1;32mTrue\u001b[0m\u001b[1;33m)\u001b[0m \u001b[1;33m;\u001b[0m \u001b[0mdf\u001b[0m\u001b[1;33m.\u001b[0m\u001b[0mhead\u001b[0m\u001b[1;33m(\u001b[0m\u001b[1;33m)\u001b[0m\u001b[1;33m\u001b[0m\u001b[1;33m\u001b[0m\u001b[0m\n\u001b[0m",
            "\u001b[1;32mc:\\Users\\zacat\\OneDrive\\Documentos\\Investigacion\\Rubrix prueba\\rb_venv3715\\lib\\site-packages\\rubrix\\client\\api.py\u001b[0m in \u001b[0;36mwrapped_func\u001b[1;34m(*args, **kwargs)\u001b[0m\n",
            "\u001b[1;32mc:\\Users\\zacat\\OneDrive\\Documentos\\Investigacion\\Rubrix prueba\\rb_venv3715\\lib\\site-packages\\rubrix\\client\\api.py\u001b[0m in \u001b[0;36mload\u001b[1;34m(*args, **kwargs)\u001b[0m\n",
            "\u001b[1;32mc:\\Users\\zacat\\OneDrive\\Documentos\\Investigacion\\Rubrix prueba\\rb_venv3715\\lib\\site-packages\\rubrix\\client\\api.py\u001b[0m in \u001b[0;36mload\u001b[1;34m(self, name, query, ids, limit, id_from, as_pandas)\u001b[0m\n",
            "\u001b[1;31mValueError\u001b[0m: ('The argument `as_pandas` is deprecated and will be removed in a future version. Please adapt your code accordingly. ', \"If you want a pandas DataFrame do `rb.load('my_dataset').to_pandas()`.\")"
          ]
        }
      ],
      "source": [
        "# df = rb.load(name=\"kg_classification_tutorial\", snapshot='1620136587.907149') ; df.head()\n",
        "df = rb.load(name=\"kg_classification_tutorial\", as_pandas=True) ; df.head()\n"
      ]
    },
    {
      "cell_type": "code",
      "execution_count": 89,
      "metadata": {},
      "outputs": [
        {
          "data": {
            "text/html": [
              "<div>\n",
              "<style scoped>\n",
              "    .dataframe tbody tr th:only-of-type {\n",
              "        vertical-align: middle;\n",
              "    }\n",
              "\n",
              "    .dataframe tbody tr th {\n",
              "        vertical-align: top;\n",
              "    }\n",
              "\n",
              "    .dataframe thead th {\n",
              "        text-align: right;\n",
              "    }\n",
              "</style>\n",
              "<table border=\"1\" class=\"dataframe\">\n",
              "  <thead>\n",
              "    <tr style=\"text-align: right;\">\n",
              "      <th></th>\n",
              "      <th>text</th>\n",
              "      <th>inputs</th>\n",
              "      <th>prediction</th>\n",
              "      <th>prediction_agent</th>\n",
              "      <th>annotation</th>\n",
              "      <th>annotation_agent</th>\n",
              "      <th>multi_label</th>\n",
              "      <th>explanation</th>\n",
              "      <th>id</th>\n",
              "      <th>metadata</th>\n",
              "      <th>status</th>\n",
              "      <th>event_timestamp</th>\n",
              "      <th>metrics</th>\n",
              "      <th>search_keywords</th>\n",
              "    </tr>\n",
              "  </thead>\n",
              "  <tbody>\n",
              "    <tr>\n",
              "      <th>0</th>\n",
              "      <td>None</td>\n",
              "      <td>{'id': 'recipe:437729', 'definition': 'super e...</td>\n",
              "      <td>[(Bitter, 0.0), (Meaty, 0.0), (Piquant, 0.0), ...</td>\n",
              "      <td>kglab_tutorial</td>\n",
              "      <td>None</td>\n",
              "      <td>None</td>\n",
              "      <td>True</td>\n",
              "      <td>None</td>\n",
              "      <td>03437962-13a7-4e98-aa03-b762e08c2d44</td>\n",
              "      <td>{'ingredients': ['AllPurposeFlour', 'Butter', ...</td>\n",
              "      <td>Default</td>\n",
              "      <td>None</td>\n",
              "      <td>{'text_length': 117}</td>\n",
              "      <td>None</td>\n",
              "    </tr>\n",
              "    <tr>\n",
              "      <th>1</th>\n",
              "      <td>None</td>\n",
              "      <td>{'id': 'recipe:221279', 'definition': 'paula d...</td>\n",
              "      <td>[(Bitter, 0.0), (Meaty, 0.0), (Piquant, 0.0), ...</td>\n",
              "      <td>kglab_tutorial</td>\n",
              "      <td>None</td>\n",
              "      <td>None</td>\n",
              "      <td>True</td>\n",
              "      <td>None</td>\n",
              "      <td>03496970-4751-41f9-8339-f761814d8f3f</td>\n",
              "      <td>{'ingredients': ['AllPurposeFlour', 'ChickenEg...</td>\n",
              "      <td>Default</td>\n",
              "      <td>None</td>\n",
              "      <td>{'text_length': 115}</td>\n",
              "      <td>None</td>\n",
              "    </tr>\n",
              "    <tr>\n",
              "      <th>2</th>\n",
              "      <td>None</td>\n",
              "      <td>{'id': 'recipe:107499', 'definition': 'scandin...</td>\n",
              "      <td>[(Bitter, 0.0), (Meaty, 0.0), (Piquant, 0.0), ...</td>\n",
              "      <td>kglab_tutorial</td>\n",
              "      <td>None</td>\n",
              "      <td>None</td>\n",
              "      <td>True</td>\n",
              "      <td>None</td>\n",
              "      <td>051d8f98-c607-469f-97a7-3e17dd487125</td>\n",
              "      <td>{'ingredients': ['AllPurposeFlour', 'Butter', ...</td>\n",
              "      <td>Default</td>\n",
              "      <td>None</td>\n",
              "      <td>{'text_length': 146}</td>\n",
              "      <td>None</td>\n",
              "    </tr>\n",
              "    <tr>\n",
              "      <th>3</th>\n",
              "      <td>None</td>\n",
              "      <td>{'id': 'recipe:382707', 'definition': 'cottage...</td>\n",
              "      <td>[(Bitter, 0.0), (Meaty, 0.0), (Piquant, 0.0), ...</td>\n",
              "      <td>kglab_tutorial</td>\n",
              "      <td>None</td>\n",
              "      <td>None</td>\n",
              "      <td>True</td>\n",
              "      <td>None</td>\n",
              "      <td>0554805e-c700-477a-8ed9-bf18b819f44b</td>\n",
              "      <td>{'ingredients': ['AppleCiderVinegar', 'CowMilk...</td>\n",
              "      <td>Default</td>\n",
              "      <td>None</td>\n",
              "      <td>{'text_length': 92}</td>\n",
              "      <td>None</td>\n",
              "    </tr>\n",
              "    <tr>\n",
              "      <th>4</th>\n",
              "      <td>None</td>\n",
              "      <td>{'id': 'recipe:186307', 'definition': 'suzi s ...</td>\n",
              "      <td>[(Bitter, 0.0), (Meaty, 0.0), (Piquant, 0.0), ...</td>\n",
              "      <td>kglab_tutorial</td>\n",
              "      <td>None</td>\n",
              "      <td>None</td>\n",
              "      <td>True</td>\n",
              "      <td>None</td>\n",
              "      <td>0606c0a9-9b91-40ed-8801-09b8f1208dec</td>\n",
              "      <td>{'ingredients': ['AllPurposeFlour', 'Butter', ...</td>\n",
              "      <td>Default</td>\n",
              "      <td>None</td>\n",
              "      <td>{'text_length': 145}</td>\n",
              "      <td>None</td>\n",
              "    </tr>\n",
              "  </tbody>\n",
              "</table>\n",
              "</div>"
            ],
            "text/plain": [
              "   text                                             inputs  \\\n",
              "0  None  {'id': 'recipe:437729', 'definition': 'super e...   \n",
              "1  None  {'id': 'recipe:221279', 'definition': 'paula d...   \n",
              "2  None  {'id': 'recipe:107499', 'definition': 'scandin...   \n",
              "3  None  {'id': 'recipe:382707', 'definition': 'cottage...   \n",
              "4  None  {'id': 'recipe:186307', 'definition': 'suzi s ...   \n",
              "\n",
              "                                          prediction prediction_agent  \\\n",
              "0  [(Bitter, 0.0), (Meaty, 0.0), (Piquant, 0.0), ...   kglab_tutorial   \n",
              "1  [(Bitter, 0.0), (Meaty, 0.0), (Piquant, 0.0), ...   kglab_tutorial   \n",
              "2  [(Bitter, 0.0), (Meaty, 0.0), (Piquant, 0.0), ...   kglab_tutorial   \n",
              "3  [(Bitter, 0.0), (Meaty, 0.0), (Piquant, 0.0), ...   kglab_tutorial   \n",
              "4  [(Bitter, 0.0), (Meaty, 0.0), (Piquant, 0.0), ...   kglab_tutorial   \n",
              "\n",
              "  annotation annotation_agent  multi_label explanation  \\\n",
              "0       None             None         True        None   \n",
              "1       None             None         True        None   \n",
              "2       None             None         True        None   \n",
              "3       None             None         True        None   \n",
              "4       None             None         True        None   \n",
              "\n",
              "                                     id  \\\n",
              "0  03437962-13a7-4e98-aa03-b762e08c2d44   \n",
              "1  03496970-4751-41f9-8339-f761814d8f3f   \n",
              "2  051d8f98-c607-469f-97a7-3e17dd487125   \n",
              "3  0554805e-c700-477a-8ed9-bf18b819f44b   \n",
              "4  0606c0a9-9b91-40ed-8801-09b8f1208dec   \n",
              "\n",
              "                                            metadata   status event_timestamp  \\\n",
              "0  {'ingredients': ['AllPurposeFlour', 'Butter', ...  Default            None   \n",
              "1  {'ingredients': ['AllPurposeFlour', 'ChickenEg...  Default            None   \n",
              "2  {'ingredients': ['AllPurposeFlour', 'Butter', ...  Default            None   \n",
              "3  {'ingredients': ['AppleCiderVinegar', 'CowMilk...  Default            None   \n",
              "4  {'ingredients': ['AllPurposeFlour', 'Butter', ...  Default            None   \n",
              "\n",
              "                metrics search_keywords  \n",
              "0  {'text_length': 117}            None  \n",
              "1  {'text_length': 115}            None  \n",
              "2  {'text_length': 146}            None  \n",
              "3   {'text_length': 92}            None  \n",
              "4  {'text_length': 145}            None  "
            ]
          },
          "execution_count": 89,
          "metadata": {},
          "output_type": "execute_result"
        }
      ],
      "source": [
        "df.head(5)"
      ]
    },
    {
      "cell_type": "code",
      "execution_count": 83,
      "metadata": {},
      "outputs": [
        {
          "data": {
            "text/plain": [
              "text                                                             None\n",
              "inputs              {'id': 'recipe:437729', 'definition': 'super e...\n",
              "prediction          [(Bitter, 0.0), (Meaty, 0.0), (Piquant, 0.0), ...\n",
              "prediction_agent                                       kglab_tutorial\n",
              "annotation                                                       None\n",
              "annotation_agent                                                 None\n",
              "multi_label                                                      True\n",
              "explanation                                                      None\n",
              "id                               03437962-13a7-4e98-aa03-b762e08c2d44\n",
              "metadata            {'ingredients': ['AllPurposeFlour', 'Butter', ...\n",
              "status                                                        Default\n",
              "event_timestamp                                                  None\n",
              "metrics                                          {'text_length': 117}\n",
              "search_keywords                                                  None\n",
              "Name: 0, dtype: object"
            ]
          },
          "execution_count": 83,
          "metadata": {},
          "output_type": "execute_result"
        }
      ],
      "source": [
        "df.iloc[0]"
      ]
    },
    {
      "cell_type": "code",
      "execution_count": 50,
      "metadata": {
        "id": "S3x_O-_S-lHN"
      },
      "outputs": [],
      "source": [
        "from sklearn.model_selection import train_test_split\n",
        "\n",
        "train_df, test_df = train_test_split(df)\n",
        "train_df.to_csv('data/train_recipes_new.csv')\n",
        "test_df.to_csv('data/test_recipes_new.csv')"
      ]
    },
    {
      "cell_type": "markdown",
      "metadata": {
        "id": "GkcJq_FcGQuD"
      },
      "source": [
        "# Datasets train y test para Pytorch"
      ]
    },
    {
      "cell_type": "code",
      "execution_count": 106,
      "metadata": {
        "colab": {
          "base_uri": "https://localhost:8080/",
          "height": 415
        },
        "id": "g7uyO9dvGW_H",
        "outputId": "905e2875-03fa-47d4-b648-21ea83a8e597"
      },
      "outputs": [],
      "source": [
        "import pandas as pd\n",
        "\n",
        "train_df = pd.read_csv('data/train_recipes_1.csv') # use your own labelled datasets if you've created a snapshot\n",
        "test_df = pd.read_csv('data/test_recipes_1.csv')\n",
        "\n",
        "# # we make sure lists are parsed correctly\n",
        "train_df.labels = train_df.labels.apply(eval)\n",
        "test_df.labels = test_df.labels.apply(eval)\n",
        "# train_df.labels = train_df.prediction.apply(eval)\n",
        "# test_df.labels = test_df.prediction.apply(eval)"
      ]
    },
    {
      "cell_type": "markdown",
      "metadata": {
        "id": "QFg8Gr1eGgzi"
      },
      "source": [
        "## Codificacion de etiquetas y diccionario apra revertir decodificar"
      ]
    },
    {
      "cell_type": "code",
      "execution_count": 107,
      "metadata": {
        "colab": {
          "base_uri": "https://localhost:8080/"
        },
        "id": "gckqifmaGmWX",
        "outputId": "e489d5fc-b8b4-48c1-f715-949a72852ec4"
      },
      "outputs": [
        {
          "data": {
            "text/plain": [
              "({0: 'Bitter', 1: 'Meaty', 2: 'Piquant', 3: 'Salty', 4: 'Sour', 5: 'Sweet'},\n",
              " {'Bitter': 0, 'Meaty': 1, 'Piquant': 2, 'Salty': 3, 'Sour': 4, 'Sweet': 5})"
            ]
          },
          "execution_count": 107,
          "metadata": {},
          "output_type": "execute_result"
        }
      ],
      "source": [
        "label2id = {label:i for i,label in enumerate(LABELS)} ;\n",
        "id2label = {i:l for l,i in label2id.items()} ; (id2label, label2id)"
      ]
    },
    {
      "cell_type": "markdown",
      "metadata": {
        "id": "N9xza4sQGqmV"
      },
      "source": [
        "## Dataframe --> Arrays numéricos para índices y etiquetas"
      ]
    },
    {
      "cell_type": "code",
      "execution_count": 111,
      "metadata": {
        "id": "CcIv8QA4Gmwf"
      },
      "outputs": [],
      "source": [
        "import numpy as np\n",
        "\n",
        "def create_indices_labels(df):\n",
        "    # turn our dense labels into a one-hot list\n",
        "    def one_hot(label_ids):\n",
        "        a = np.zeros(len(LABELS))\n",
        "        a.put(label_ids, np.ones(len(label_ids)))\n",
        "        return a\n",
        "\n",
        "    indices, labels = [], []\n",
        "    for uri, label in zip(df.uri.tolist(), df.labels.tolist()):\n",
        "        indices.append(sg.transform(uri))\n",
        "        labels.append(one_hot([label2id[label] for label in label]))\n",
        "    # for id, label in zip(df.id.tolist(), df.labels.tolist()):\n",
        "    #     indices.append(sg.transform(id))\n",
        "    #     # labels.append(one_hot([label2id[label] for label in label]))\n",
        "    #     labels.append(one_hot([label2id[(label[0], int(label[1]))] for label in label]))\n",
        "    return indices, labels"
      ]
    },
    {
      "cell_type": "code",
      "execution_count": 112,
      "metadata": {
        "colab": {
          "base_uri": "https://localhost:8080/",
          "height": 235
        },
        "id": "vhxTXxPnGyRB",
        "outputId": "80955b1a-2692-427a-d7dd-7a64b64197ac"
      },
      "outputs": [
        {
          "data": {
            "text/plain": [
              "(tensor([618, 619, 620, 621, 622, 623, 624, 625, 626, 627]),\n",
              " tensor([[0., 0., 0., 0., 1., 1.],\n",
              "         [0., 0., 0., 0., 0., 1.],\n",
              "         [1., 0., 0., 0., 0., 1.],\n",
              "         ...,\n",
              "         [0., 1., 0., 1., 0., 0.],\n",
              "         [0., 0., 0., 0., 1., 0.],\n",
              "         [1., 0., 1., 0., 0., 1.]]))"
            ]
          },
          "execution_count": 112,
          "metadata": {},
          "output_type": "execute_result"
        }
      ],
      "source": [
        "train_indices, train_labels = create_indices_labels(train_df)\n",
        "test_indices, test_labels = create_indices_labels(test_df)\n",
        "\n",
        "train_idx = torch.tensor(train_indices, dtype=torch.long)\n",
        "train_y = torch.tensor(train_labels, dtype=torch.float)\n",
        "\n",
        "test_idx = torch.tensor(test_indices, dtype=torch.long)\n",
        "test_y = torch.tensor(test_labels, dtype=torch.float) ; train_idx[:10], train_y"
      ]
    },
    {
      "cell_type": "markdown",
      "metadata": {
        "id": "6bIeDnJQG7AL"
      },
      "source": [
        "## Corroborando que se pueda recuperar URIs de manera correcta usando kglab.Subgraph"
      ]
    },
    {
      "cell_type": "code",
      "execution_count": 154,
      "metadata": {},
      "outputs": [
        {
          "data": {
            "text/plain": [
              "(441, 441)"
            ]
          },
          "execution_count": 154,
          "metadata": {},
          "output_type": "execute_result"
        }
      ],
      "source": [
        "len(train_idx), len(train_y)"
      ]
    },
    {
      "cell_type": "code",
      "execution_count": 114,
      "metadata": {
        "colab": {
          "base_uri": "https://localhost:8080/",
          "height": 165
        },
        "id": "Fa9p_qMdG1Ir",
        "outputId": "0d1e063e-2098-4ae3-8914-b48f9345eb6d"
      },
      "outputs": [],
      "source": [
        "# (train_df.loc[0], sg.inverse_transform(15380))\n"
      ]
    },
    {
      "cell_type": "markdown",
      "metadata": {
        "id": "6jh8_f3GHHXP"
      },
      "source": [
        "---\n",
        "# Creación de subgrafo de recetas e ingredientes"
      ]
    },
    {
      "cell_type": "markdown",
      "metadata": {
        "id": "0_KEdvg6HZYz"
      },
      "source": [
        "### Creación de \"semilla\"\n",
        "### Objetivo: Clasificar nodos"
      ]
    },
    {
      "cell_type": "code",
      "execution_count": 115,
      "metadata": {
        "id": "MZANWYClHDZw"
      },
      "outputs": [],
      "source": [
        "node_idx = torch.LongTensor([\n",
        "    sg.transform(i) for i in ing_recipes_df.uri.values\n",
        "])\n"
      ]
    },
    {
      "cell_type": "code",
      "execution_count": 116,
      "metadata": {
        "colab": {
          "base_uri": "https://localhost:8080/"
        },
        "id": "H_MUMNnzHQlr",
        "outputId": "e769c16d-32ba-4a49-ed74-01cdc743edd7"
      },
      "outputs": [
        {
          "data": {
            "text/plain": [
              "(tensor(615), torch.Size([277]))"
            ]
          },
          "execution_count": 116,
          "metadata": {},
          "output_type": "execute_result"
        }
      ],
      "source": [
        "node_idx.max(), node_idx.shape\n"
      ]
    },
    {
      "cell_type": "code",
      "execution_count": 117,
      "metadata": {
        "colab": {
          "base_uri": "https://localhost:8080/"
        },
        "id": "ktvapVM0HRiw",
        "outputId": "8bcc9e62-f60f-4aed-b6a2-2620c9128226"
      },
      "outputs": [
        {
          "data": {
            "text/plain": [
              "uri                                                recipe:101876\n",
              "definition                                           wheat thins\n",
              "type                                                  wtm:Recipe\n",
              "ingredients    [ind:Butter, ind:Salt, ind:VanillaExtract, ind...\n",
              "Name: 1, dtype: object"
            ]
          },
          "execution_count": 117,
          "metadata": {},
          "output_type": "execute_result"
        }
      ],
      "source": [
        "ing_recipes_df.iloc[1]\n"
      ]
    },
    {
      "cell_type": "code",
      "execution_count": 118,
      "metadata": {
        "colab": {
          "base_uri": "https://localhost:8080/",
          "height": 35
        },
        "id": "Rj5NaKUrHTIp",
        "outputId": "b7ddfa4d-6de1-462d-ea59-81d05467a21b"
      },
      "outputs": [
        {
          "data": {
            "text/plain": [
              "'recipe:101876'"
            ]
          },
          "execution_count": 118,
          "metadata": {},
          "output_type": "execute_result"
        }
      ],
      "source": [
        "sg.inverse_transform(node_idx[1])\n"
      ]
    },
    {
      "cell_type": "code",
      "execution_count": 119,
      "metadata": {
        "colab": {
          "base_uri": "https://localhost:8080/"
        },
        "id": "MxGwrtdTHUCc",
        "outputId": "2472b224-960c-430a-9a43-dc3a3488ac9c"
      },
      "outputs": [
        {
          "data": {
            "text/plain": [
              "tensor([324, 381, 181, 230, 230, 183, 448, 109,  60, 346])"
            ]
          },
          "execution_count": 119,
          "metadata": {},
          "output_type": "execute_result"
        }
      ],
      "source": [
        "node_idx[0:10]"
      ]
    },
    {
      "cell_type": "markdown",
      "metadata": {
        "id": "BFGCvwOjHqGB"
      },
      "source": [
        "# Clasificación Semi-supervisada de nodos con PyTorch Geometric\n",
        "## Se usará una variante de las clásicas GNN --> Relational Graph Convolutional Network \n",
        "## >> MULTI-RELATIONAL KNOWLEDGE GRAPHS <<"
      ]
    },
    {
      "cell_type": "markdown",
      "metadata": {
        "id": "uAKJK7pMH8AA"
      },
      "source": [
        "### Creación de subgrafo tipo PyG"
      ]
    },
    {
      "cell_type": "code",
      "execution_count": 120,
      "metadata": {
        "id": "8Zv7Q1u5Gadw"
      },
      "outputs": [],
      "source": [
        "from torch_geometric.utils import k_hop_subgraph\n",
        "# here we take all connected nodes with k hops\n",
        "k = 1\n",
        "node_idx, edge_index, mapping, edge_mask = k_hop_subgraph(\n",
        "    node_idx,\n",
        "    k,\n",
        "    data.edge_index,\n",
        "    relabel_nodes=False\n",
        ")\n"
      ]
    },
    {
      "cell_type": "code",
      "execution_count": 121,
      "metadata": {
        "colab": {
          "base_uri": "https://localhost:8080/"
        },
        "id": "X-hhUOoDICR1",
        "outputId": "486e5374-6294-42e6-e2c2-115d7ad80f75"
      },
      "outputs": [
        {
          "data": {
            "text/plain": [
              "torch.Size([553])"
            ]
          },
          "execution_count": 121,
          "metadata": {},
          "output_type": "execute_result"
        }
      ],
      "source": [
        "node_idx.shape\n"
      ]
    },
    {
      "cell_type": "code",
      "execution_count": 122,
      "metadata": {
        "colab": {
          "base_uri": "https://localhost:8080/"
        },
        "id": "hq7UbV4CIDSV",
        "outputId": "1f890480-b523-438f-e415-f8476209e008"
      },
      "outputs": [
        {
          "data": {
            "text/plain": [
              "torch.Size([2, 3764])"
            ]
          },
          "execution_count": 122,
          "metadata": {},
          "output_type": "execute_result"
        }
      ],
      "source": [
        "data.edge_index.shape\n"
      ]
    },
    {
      "cell_type": "markdown",
      "metadata": {
        "id": "f0jG-aicIGb9"
      },
      "source": [
        "#### Algunas métricas"
      ]
    },
    {
      "cell_type": "code",
      "execution_count": 123,
      "metadata": {
        "colab": {
          "base_uri": "https://localhost:8080/"
        },
        "id": "pCDrs39NII4y",
        "outputId": "9266426c-910b-4ab5-bbcf-6abd7bf6b495"
      },
      "outputs": [
        {
          "data": {
            "text/plain": [
              "(616, 26, 6)"
            ]
          },
          "execution_count": 123,
          "metadata": {},
          "output_type": "execute_result"
        }
      ],
      "source": [
        "data.edge_index = edge_index\n",
        "\n",
        "data.num_nodes = data.edge_index.max().item() + 1\n",
        "\n",
        "data.num_relations = data.edge_type.max().item() + 1\n",
        "\n",
        "data.edge_type = data.edge_type[edge_mask]\n",
        "\n",
        "data.num_classes = len(LABELS)\n",
        "\n",
        "data.num_nodes, data.num_relations, data.num_classes"
      ]
    },
    {
      "cell_type": "markdown",
      "metadata": {
        "id": "1o2J-UwpIfqP"
      },
      "source": [
        "## Definición básica de una RGCN"
      ]
    },
    {
      "cell_type": "code",
      "execution_count": 124,
      "metadata": {
        "id": "QWw5OQtiIKSL"
      },
      "outputs": [],
      "source": [
        "from torch_geometric.nn import FastRGCNConv, RGCNConv\n",
        "import torch.nn.functional as F"
      ]
    },
    {
      "cell_type": "code",
      "execution_count": null,
      "metadata": {
        "id": "IwpkYT_PIma9"
      },
      "outputs": [],
      "source": [
        "RGCNConv?\n"
      ]
    },
    {
      "cell_type": "code",
      "execution_count": 125,
      "metadata": {
        "id": "ImN4enOIInnh"
      },
      "outputs": [],
      "source": [
        "class RGCN(torch.nn.Module):\n",
        "    def __init__(self, num_nodes, num_relations, num_classes, out_channels=16, num_bases=30, dropout=0.0, layer_type=FastRGCNConv, ):\n",
        "\n",
        "        super(RGCN, self).__init__()\n",
        "\n",
        "        self.conv1 = layer_type(\n",
        "            num_nodes,\n",
        "            out_channels,\n",
        "            num_relations,\n",
        "            num_bases=num_bases\n",
        "        )\n",
        "        self.conv2 = layer_type(\n",
        "            out_channels,\n",
        "            num_classes,\n",
        "            num_relations,\n",
        "            num_bases=num_bases\n",
        "        )\n",
        "        self.dropout = torch.nn.Dropout(dropout)\n",
        "\n",
        "    def forward(self, edge_index, edge_type):\n",
        "        x = F.relu(self.conv1(None, edge_index, edge_type))\n",
        "        x = self.dropout(x)\n",
        "        x = self.conv2(x, edge_index, edge_type)\n",
        "        return torch.sigmoid(x)"
      ]
    },
    {
      "cell_type": "markdown",
      "metadata": {
        "id": "4SQ_99EOIrCj"
      },
      "source": [
        "## Crea y visualiza el modelo"
      ]
    },
    {
      "cell_type": "code",
      "execution_count": 136,
      "metadata": {
        "colab": {
          "base_uri": "https://localhost:8080/"
        },
        "id": "3fg-idsrIpjt",
        "outputId": "f4998df7-8892-4b00-dbaa-6cf654686232"
      },
      "outputs": [
        {
          "data": {
            "text/plain": [
              "RGCN(\n",
              "  (conv1): RGCNConv(616, 64, num_relations=26)\n",
              "  (conv2): RGCNConv(64, 6, num_relations=26)\n",
              "  (dropout): Dropout(p=0.2, inplace=False)\n",
              ")"
            ]
          },
          "execution_count": 136,
          "metadata": {},
          "output_type": "execute_result"
        }
      ],
      "source": [
        "model = RGCN(\n",
        "    num_nodes=data.num_nodes,\n",
        "    num_relations=data.num_relations,\n",
        "    num_classes=data.num_classes,\n",
        "    out_channels=64,\n",
        "    dropout=0.2,\n",
        "    layer_type=RGCNConv\n",
        ") ; model"
      ]
    },
    {
      "cell_type": "code",
      "execution_count": null,
      "metadata": {},
      "outputs": [],
      "source": [
        "!pip install matplotlib"
      ]
    },
    {
      "cell_type": "code",
      "execution_count": 139,
      "metadata": {
        "id": "ZiURifEEIuus"
      },
      "outputs": [],
      "source": [
        "# code adapted from https://colab.research.google.com/drive/14OvFnAXggxB8vM4e8vSURUp1TaKnovzX\n",
        "%matplotlib inline\n",
        "import matplotlib.pyplot as plt\n",
        "from sklearn.manifold import TSNE\n",
        "# from pytorch_lightning.metrics.utils import to_categorical\n",
        "\n",
        "def visualize(h, color, labels):\n",
        "    z = TSNE(n_components=2).fit_transform(h.detach().cpu().numpy())\n",
        "\n",
        "    plt.figure(figsize=(10,10))\n",
        "    plt.xticks([])\n",
        "    plt.yticks([])\n",
        "\n",
        "    scatter = plt.scatter(z[:, 0], z[:, 1], s=70, c=color, cmap=\"Set2\")\n",
        "    legend = plt.legend(scatter.legend_elements()[0],labels, loc=\"upper right\", title=\"Labels\",) #*scatter.legend_elements()\n",
        "    plt.show()"
      ]
    },
    {
      "cell_type": "code",
      "execution_count": 140,
      "metadata": {
        "colab": {
          "base_uri": "https://localhost:8080/",
          "height": 345
        },
        "id": "6RxJi6TdIElA",
        "outputId": "973401cf-6b62-4578-cc8d-52614e4afcc4"
      },
      "outputs": [
        {
          "ename": "IndexError",
          "evalue": "The shape of the mask [3764] at index 0 does not match the shape of the indexed tensor [2, 3670] at index 1",
          "output_type": "error",
          "traceback": [
            "\u001b[1;31m---------------------------------------------------------------------------\u001b[0m",
            "\u001b[1;31mIndexError\u001b[0m                                Traceback (most recent call last)",
            "\u001b[1;32m~\\AppData\\Local\\Temp\\ipykernel_36828\\1530841510.py\u001b[0m in \u001b[0;36m<module>\u001b[1;34m\u001b[0m\n\u001b[1;32m----> 1\u001b[1;33m \u001b[0mpred\u001b[0m \u001b[1;33m=\u001b[0m \u001b[0mmodel\u001b[0m\u001b[1;33m(\u001b[0m\u001b[0medge_index\u001b[0m\u001b[1;33m,\u001b[0m \u001b[0medge_type\u001b[0m\u001b[1;33m)\u001b[0m\u001b[1;33m\u001b[0m\u001b[1;33m\u001b[0m\u001b[0m\n\u001b[0m",
            "\u001b[1;32mc:\\Users\\zacat\\OneDrive\\Documentos\\Investigacion\\Rubrix prueba\\rb_venv3715\\lib\\site-packages\\torch\\nn\\modules\\module.py\u001b[0m in \u001b[0;36m_call_impl\u001b[1;34m(self, *input, **kwargs)\u001b[0m\n\u001b[0;32m    887\u001b[0m             \u001b[0mresult\u001b[0m \u001b[1;33m=\u001b[0m \u001b[0mself\u001b[0m\u001b[1;33m.\u001b[0m\u001b[0m_slow_forward\u001b[0m\u001b[1;33m(\u001b[0m\u001b[1;33m*\u001b[0m\u001b[0minput\u001b[0m\u001b[1;33m,\u001b[0m \u001b[1;33m**\u001b[0m\u001b[0mkwargs\u001b[0m\u001b[1;33m)\u001b[0m\u001b[1;33m\u001b[0m\u001b[1;33m\u001b[0m\u001b[0m\n\u001b[0;32m    888\u001b[0m         \u001b[1;32melse\u001b[0m\u001b[1;33m:\u001b[0m\u001b[1;33m\u001b[0m\u001b[1;33m\u001b[0m\u001b[0m\n\u001b[1;32m--> 889\u001b[1;33m             \u001b[0mresult\u001b[0m \u001b[1;33m=\u001b[0m \u001b[0mself\u001b[0m\u001b[1;33m.\u001b[0m\u001b[0mforward\u001b[0m\u001b[1;33m(\u001b[0m\u001b[1;33m*\u001b[0m\u001b[0minput\u001b[0m\u001b[1;33m,\u001b[0m \u001b[1;33m**\u001b[0m\u001b[0mkwargs\u001b[0m\u001b[1;33m)\u001b[0m\u001b[1;33m\u001b[0m\u001b[1;33m\u001b[0m\u001b[0m\n\u001b[0m\u001b[0;32m    890\u001b[0m         for hook in itertools.chain(\n\u001b[0;32m    891\u001b[0m                 \u001b[0m_global_forward_hooks\u001b[0m\u001b[1;33m.\u001b[0m\u001b[0mvalues\u001b[0m\u001b[1;33m(\u001b[0m\u001b[1;33m)\u001b[0m\u001b[1;33m,\u001b[0m\u001b[1;33m\u001b[0m\u001b[1;33m\u001b[0m\u001b[0m\n",
            "\u001b[1;32m~\\AppData\\Local\\Temp\\ipykernel_36828\\1613326623.py\u001b[0m in \u001b[0;36mforward\u001b[1;34m(self, edge_index, edge_type)\u001b[0m\n\u001b[0;32m     19\u001b[0m \u001b[1;33m\u001b[0m\u001b[0m\n\u001b[0;32m     20\u001b[0m     \u001b[1;32mdef\u001b[0m \u001b[0mforward\u001b[0m\u001b[1;33m(\u001b[0m\u001b[0mself\u001b[0m\u001b[1;33m,\u001b[0m \u001b[0medge_index\u001b[0m\u001b[1;33m,\u001b[0m \u001b[0medge_type\u001b[0m\u001b[1;33m)\u001b[0m\u001b[1;33m:\u001b[0m\u001b[1;33m\u001b[0m\u001b[1;33m\u001b[0m\u001b[0m\n\u001b[1;32m---> 21\u001b[1;33m         \u001b[0mx\u001b[0m \u001b[1;33m=\u001b[0m \u001b[0mF\u001b[0m\u001b[1;33m.\u001b[0m\u001b[0mrelu\u001b[0m\u001b[1;33m(\u001b[0m\u001b[0mself\u001b[0m\u001b[1;33m.\u001b[0m\u001b[0mconv1\u001b[0m\u001b[1;33m(\u001b[0m\u001b[1;32mNone\u001b[0m\u001b[1;33m,\u001b[0m \u001b[0medge_index\u001b[0m\u001b[1;33m,\u001b[0m \u001b[0medge_type\u001b[0m\u001b[1;33m)\u001b[0m\u001b[1;33m)\u001b[0m\u001b[1;33m\u001b[0m\u001b[1;33m\u001b[0m\u001b[0m\n\u001b[0m\u001b[0;32m     22\u001b[0m         \u001b[0mx\u001b[0m \u001b[1;33m=\u001b[0m \u001b[0mself\u001b[0m\u001b[1;33m.\u001b[0m\u001b[0mdropout\u001b[0m\u001b[1;33m(\u001b[0m\u001b[0mx\u001b[0m\u001b[1;33m)\u001b[0m\u001b[1;33m\u001b[0m\u001b[1;33m\u001b[0m\u001b[0m\n\u001b[0;32m     23\u001b[0m         \u001b[0mx\u001b[0m \u001b[1;33m=\u001b[0m \u001b[0mself\u001b[0m\u001b[1;33m.\u001b[0m\u001b[0mconv2\u001b[0m\u001b[1;33m(\u001b[0m\u001b[0mx\u001b[0m\u001b[1;33m,\u001b[0m \u001b[0medge_index\u001b[0m\u001b[1;33m,\u001b[0m \u001b[0medge_type\u001b[0m\u001b[1;33m)\u001b[0m\u001b[1;33m\u001b[0m\u001b[1;33m\u001b[0m\u001b[0m\n",
            "\u001b[1;32mc:\\Users\\zacat\\OneDrive\\Documentos\\Investigacion\\Rubrix prueba\\rb_venv3715\\lib\\site-packages\\torch\\nn\\modules\\module.py\u001b[0m in \u001b[0;36m_call_impl\u001b[1;34m(self, *input, **kwargs)\u001b[0m\n\u001b[0;32m    887\u001b[0m             \u001b[0mresult\u001b[0m \u001b[1;33m=\u001b[0m \u001b[0mself\u001b[0m\u001b[1;33m.\u001b[0m\u001b[0m_slow_forward\u001b[0m\u001b[1;33m(\u001b[0m\u001b[1;33m*\u001b[0m\u001b[0minput\u001b[0m\u001b[1;33m,\u001b[0m \u001b[1;33m**\u001b[0m\u001b[0mkwargs\u001b[0m\u001b[1;33m)\u001b[0m\u001b[1;33m\u001b[0m\u001b[1;33m\u001b[0m\u001b[0m\n\u001b[0;32m    888\u001b[0m         \u001b[1;32melse\u001b[0m\u001b[1;33m:\u001b[0m\u001b[1;33m\u001b[0m\u001b[1;33m\u001b[0m\u001b[0m\n\u001b[1;32m--> 889\u001b[1;33m             \u001b[0mresult\u001b[0m \u001b[1;33m=\u001b[0m \u001b[0mself\u001b[0m\u001b[1;33m.\u001b[0m\u001b[0mforward\u001b[0m\u001b[1;33m(\u001b[0m\u001b[1;33m*\u001b[0m\u001b[0minput\u001b[0m\u001b[1;33m,\u001b[0m \u001b[1;33m**\u001b[0m\u001b[0mkwargs\u001b[0m\u001b[1;33m)\u001b[0m\u001b[1;33m\u001b[0m\u001b[1;33m\u001b[0m\u001b[0m\n\u001b[0m\u001b[0;32m    890\u001b[0m         for hook in itertools.chain(\n\u001b[0;32m    891\u001b[0m                 \u001b[0m_global_forward_hooks\u001b[0m\u001b[1;33m.\u001b[0m\u001b[0mvalues\u001b[0m\u001b[1;33m(\u001b[0m\u001b[1;33m)\u001b[0m\u001b[1;33m,\u001b[0m\u001b[1;33m\u001b[0m\u001b[1;33m\u001b[0m\u001b[0m\n",
            "\u001b[1;32mc:\\Users\\zacat\\OneDrive\\Documentos\\Investigacion\\Rubrix prueba\\rb_venv3715\\lib\\site-packages\\torch_geometric\\nn\\conv\\rgcn_conv.py\u001b[0m in \u001b[0;36mforward\u001b[1;34m(self, x, edge_index, edge_type)\u001b[0m\n\u001b[0;32m    237\u001b[0m             \u001b[1;32melse\u001b[0m\u001b[1;33m:\u001b[0m\u001b[1;33m\u001b[0m\u001b[1;33m\u001b[0m\u001b[0m\n\u001b[0;32m    238\u001b[0m                 \u001b[1;32mfor\u001b[0m \u001b[0mi\u001b[0m \u001b[1;32min\u001b[0m \u001b[0mrange\u001b[0m\u001b[1;33m(\u001b[0m\u001b[0mself\u001b[0m\u001b[1;33m.\u001b[0m\u001b[0mnum_relations\u001b[0m\u001b[1;33m)\u001b[0m\u001b[1;33m:\u001b[0m\u001b[1;33m\u001b[0m\u001b[1;33m\u001b[0m\u001b[0m\n\u001b[1;32m--> 239\u001b[1;33m                     \u001b[0mtmp\u001b[0m \u001b[1;33m=\u001b[0m \u001b[0mmasked_edge_index\u001b[0m\u001b[1;33m(\u001b[0m\u001b[0medge_index\u001b[0m\u001b[1;33m,\u001b[0m \u001b[0medge_type\u001b[0m \u001b[1;33m==\u001b[0m \u001b[0mi\u001b[0m\u001b[1;33m)\u001b[0m\u001b[1;33m\u001b[0m\u001b[1;33m\u001b[0m\u001b[0m\n\u001b[0m\u001b[0;32m    240\u001b[0m \u001b[1;33m\u001b[0m\u001b[0m\n\u001b[0;32m    241\u001b[0m                     \u001b[1;32mif\u001b[0m \u001b[0mx_l\u001b[0m\u001b[1;33m.\u001b[0m\u001b[0mdtype\u001b[0m \u001b[1;33m==\u001b[0m \u001b[0mtorch\u001b[0m\u001b[1;33m.\u001b[0m\u001b[0mlong\u001b[0m\u001b[1;33m:\u001b[0m\u001b[1;33m\u001b[0m\u001b[1;33m\u001b[0m\u001b[0m\n",
            "\u001b[1;32mc:\\Users\\zacat\\OneDrive\\Documentos\\Investigacion\\Rubrix prueba\\rb_venv3715\\lib\\site-packages\\torch_geometric\\nn\\conv\\rgcn_conv.py\u001b[0m in \u001b[0;36mmasked_edge_index\u001b[1;34m(edge_index, edge_mask)\u001b[0m\n\u001b[0;32m     38\u001b[0m \u001b[1;32mdef\u001b[0m \u001b[0mmasked_edge_index\u001b[0m\u001b[1;33m(\u001b[0m\u001b[0medge_index\u001b[0m\u001b[1;33m,\u001b[0m \u001b[0medge_mask\u001b[0m\u001b[1;33m)\u001b[0m\u001b[1;33m:\u001b[0m\u001b[1;33m\u001b[0m\u001b[1;33m\u001b[0m\u001b[0m\n\u001b[0;32m     39\u001b[0m     \u001b[1;32mif\u001b[0m \u001b[0misinstance\u001b[0m\u001b[1;33m(\u001b[0m\u001b[0medge_index\u001b[0m\u001b[1;33m,\u001b[0m \u001b[0mTensor\u001b[0m\u001b[1;33m)\u001b[0m\u001b[1;33m:\u001b[0m\u001b[1;33m\u001b[0m\u001b[1;33m\u001b[0m\u001b[0m\n\u001b[1;32m---> 40\u001b[1;33m         \u001b[1;32mreturn\u001b[0m \u001b[0medge_index\u001b[0m\u001b[1;33m[\u001b[0m\u001b[1;33m:\u001b[0m\u001b[1;33m,\u001b[0m \u001b[0medge_mask\u001b[0m\u001b[1;33m]\u001b[0m\u001b[1;33m\u001b[0m\u001b[1;33m\u001b[0m\u001b[0m\n\u001b[0m\u001b[0;32m     41\u001b[0m     \u001b[1;32melse\u001b[0m\u001b[1;33m:\u001b[0m\u001b[1;33m\u001b[0m\u001b[1;33m\u001b[0m\u001b[0m\n\u001b[0;32m     42\u001b[0m         \u001b[1;32mreturn\u001b[0m \u001b[0mmasked_select_nnz\u001b[0m\u001b[1;33m(\u001b[0m\u001b[0medge_index\u001b[0m\u001b[1;33m,\u001b[0m \u001b[0medge_mask\u001b[0m\u001b[1;33m,\u001b[0m \u001b[0mlayout\u001b[0m\u001b[1;33m=\u001b[0m\u001b[1;34m'coo'\u001b[0m\u001b[1;33m)\u001b[0m\u001b[1;33m\u001b[0m\u001b[1;33m\u001b[0m\u001b[0m\n",
            "\u001b[1;31mIndexError\u001b[0m: The shape of the mask [3764] at index 0 does not match the shape of the indexed tensor [2, 3670] at index 1"
          ]
        }
      ],
      "source": [
        "pred = model(edge_index, edge_type)\n"
      ]
    },
    {
      "cell_type": "code",
      "execution_count": 133,
      "metadata": {
        "colab": {
          "base_uri": "https://localhost:8080/",
          "height": 165
        },
        "id": "vkgBWvWmJRyv",
        "outputId": "c9fd91b1-b0a4-471a-eeb6-ca0dd73cca16"
      },
      "outputs": [
        {
          "ename": "NameError",
          "evalue": "name 'pred' is not defined",
          "output_type": "error",
          "traceback": [
            "\u001b[1;31m---------------------------------------------------------------------------\u001b[0m",
            "\u001b[1;31mNameError\u001b[0m                                 Traceback (most recent call last)",
            "\u001b[1;32m~\\AppData\\Local\\Temp\\ipykernel_36828\\3108558143.py\u001b[0m in \u001b[0;36m<module>\u001b[1;34m\u001b[0m\n\u001b[1;32m----> 1\u001b[1;33m \u001b[0mvisualize\u001b[0m\u001b[1;33m(\u001b[0m\u001b[0mpred\u001b[0m\u001b[1;33m[\u001b[0m\u001b[0mtrain_idx\u001b[0m\u001b[1;33m]\u001b[0m\u001b[1;33m,\u001b[0m \u001b[0mcolor\u001b[0m\u001b[1;33m=\u001b[0m\u001b[0mto_categorical\u001b[0m\u001b[1;33m(\u001b[0m\u001b[0mtrain_y\u001b[0m\u001b[1;33m)\u001b[0m\u001b[1;33m,\u001b[0m \u001b[0mlabels\u001b[0m\u001b[1;33m=\u001b[0m\u001b[0mLABELS\u001b[0m\u001b[1;33m)\u001b[0m\u001b[1;33m\u001b[0m\u001b[1;33m\u001b[0m\u001b[0m\n\u001b[0m",
            "\u001b[1;31mNameError\u001b[0m: name 'pred' is not defined"
          ]
        }
      ],
      "source": [
        "visualize(pred[train_idx], color=to_categorical(train_y), labels=LABELS)\n"
      ]
    },
    {
      "cell_type": "code",
      "execution_count": null,
      "metadata": {
        "colab": {
          "base_uri": "https://localhost:8080/",
          "height": 165
        },
        "id": "ixUePHK2JVIL",
        "outputId": "1a4e6ea5-241f-4b02-a1f0-c64febf37e7a"
      },
      "outputs": [],
      "source": [
        "visualize(pred[test_idx], color=to_categorical(test_y), labels=LABELS)\n"
      ]
    },
    {
      "cell_type": "markdown",
      "metadata": {
        "id": "jDVCMESgJauh"
      },
      "source": [
        "## Entrena la red neuronal"
      ]
    },
    {
      "cell_type": "code",
      "execution_count": 162,
      "metadata": {
        "id": "6EWpLhdhJdwN"
      },
      "outputs": [],
      "source": [
        "device = torch.device('cpu') # ('cuda')\n",
        "data = data.to(device)\n",
        "model = model.to(device)\n",
        "optimizer = torch.optim.AdamW(model.parameters())\n",
        "loss_module = torch.nn.BCELoss()\n",
        "\n",
        "def train():\n",
        "    print(len(data.edge_index[0]), len(data.edge_type))\n",
        "    model.train()\n",
        "    optimizer.zero_grad()\n",
        "    out = model(data.edge_index, data.edge_type)\n",
        "    print(len(out))\n",
        "    loss = loss_module(out[train_idx], train_y)\n",
        "    loss.backward()\n",
        "    optimizer.step()\n",
        "    return loss.item()\n",
        "\n",
        "def accuracy(predictions, y):\n",
        "    predictions = np.round(predictions)\n",
        "    return predictions.eq(y).to(torch.float).mean()\n",
        "\n",
        "@torch.no_grad()\n",
        "def test():\n",
        "    model.eval()\n",
        "    pred = model(data.edge_index, data.edge_type)\n",
        "    train_acc = accuracy(pred[train_idx], train_y)\n",
        "    test_acc = accuracy(pred[test_idx], test_y)\n",
        "    return train_acc.item(), test_acc.item()"
      ]
    },
    {
      "cell_type": "code",
      "execution_count": 158,
      "metadata": {},
      "outputs": [
        {
          "data": {
            "text/plain": [
              "<bound method Tensor.unique of tensor([ 618,  619,  620,  621,  622,  623,  624,  625,  626,  627,  628,  629,\n",
              "         630,  631,  632,  633,  634,  635,  636,  637,  638,  639,  640,  641,\n",
              "         642,  643,  644,  645,  646,  647,  648,  649,  650,  651,  652,  653,\n",
              "         654,  655,  656,  657,  658,  659,  660,  661,  662,  663,  140,  664,\n",
              "         665,  666,  667,  668,  669,  670,  671,  672,  673,  674,  675,  676,\n",
              "         677,  678,  679,  680,  681,  682,  683,  684,  685,  686,  687,  688,\n",
              "         689,  690,  691,  692,  693,  694,  695,  696,  697,  698,  699,  700,\n",
              "         701,  702,  703,  704,  705,  706,  707,  708,  709,  118,  710,  711,\n",
              "         712,  713,  714,  715,  716,  717,  718,  719,  720,  721,  722,  723,\n",
              "         724,  725,  726,  727,  728,  729,  730,  731,  732,  733,  734,  735,\n",
              "         736,  737,  738,  739,  740,  741,  742,  743,  744,  745,  746,  747,\n",
              "         748,  749,  750,  751,  752,  753,  754,  755,  756,  757,  758,  759,\n",
              "         760,  761,  762,  763,  764,  765,  766,  767,  768,  769,  770,  771,\n",
              "         772,  773,  774,  775,  776,  777,  778,  779,  780,  781,  782,  783,\n",
              "         784,  785,  786,  787,  788,  789,  790,  791,  792,  793,  794,  795,\n",
              "          60,  796,  797,  798,  799,  800,  801,  802,  803,  804,  805,  806,\n",
              "         807,  808,  809,  810,  811,  812,  813,  814,  815,  816,  817,  818,\n",
              "         819,  820,  821,  822,  823,  824,  825,  826,  827,  828,  829,  830,\n",
              "         831,  832,  833,  834,  835,  836,  837,  838,  839,  840,  841,  842,\n",
              "         843,  844,  845,  846,  847,  848,  849,  850,  851,  852,  853,  854,\n",
              "         855,  856,  857,  858,  859,  860,  861,  862,  863,  864,  865,  866,\n",
              "         867,  868,  869,  870,  871,  872,  873,  259,  874,  875,  876,  877,\n",
              "         878,  879,  880,  881,  882,  883,  884,  885,  886,  887,  249,  888,\n",
              "         889,  890,  891,  892,  893,  894,  895,  896,  897,  898,  899,  900,\n",
              "         901,  902,  903,  904,  905,  906,  907,  908,  909,  910,  911,  912,\n",
              "         913,  914,  915,  916,  917,  918,  919,  920,  921,  922,  923,  924,\n",
              "         925,  926,  927,  928,  929,  930,  931,  932,  933,  934,  935,  936,\n",
              "         937,  938,  939,  940,  941,  942,  943,  944,  945,  946,  947,  948,\n",
              "         949,  950,  951,  952,  953,  954,  955,  956,  957,  958,  959,  960,\n",
              "         961,  962,  963,  964,  102,  965,  966,  967,  968,  969,  970,  971,\n",
              "         972,  973,  974,  975,  976,  977,  978,  979,  980,  981,  982,  983,\n",
              "         984,  985,  986,  987,  988,  989,  990,  991,  992,  993,  994,  995,\n",
              "         996,  997,  998,  999,  380, 1000, 1001, 1002, 1003, 1004, 1005, 1006,\n",
              "        1007, 1008, 1009, 1010, 1011, 1012, 1013, 1014, 1015, 1016, 1017, 1018,\n",
              "        1019, 1020, 1021, 1022, 1023, 1024, 1025, 1026, 1027, 1028, 1029, 1030,\n",
              "        1031, 1032, 1033, 1034, 1035, 1036, 1037, 1038, 1039, 1040, 1041, 1042,\n",
              "        1043, 1044, 1045, 1046, 1047, 1048, 1049, 1050, 1051])>"
            ]
          },
          "execution_count": 158,
          "metadata": {},
          "output_type": "execute_result"
        }
      ],
      "source": [
        "train_idx.unique"
      ]
    },
    {
      "cell_type": "code",
      "execution_count": 163,
      "metadata": {},
      "outputs": [
        {
          "name": "stdout",
          "output_type": "stream",
          "text": [
            "3670 3670\n",
            "616\n"
          ]
        },
        {
          "ename": "IndexError",
          "evalue": "index 618 is out of bounds for dimension 0 with size 616",
          "output_type": "error",
          "traceback": [
            "\u001b[1;31m---------------------------------------------------------------------------\u001b[0m",
            "\u001b[1;31mIndexError\u001b[0m                                Traceback (most recent call last)",
            "\u001b[1;32m~\\AppData\\Local\\Temp\\ipykernel_36828\\3842996939.py\u001b[0m in \u001b[0;36m<module>\u001b[1;34m\u001b[0m\n\u001b[0;32m      1\u001b[0m \u001b[1;32mfor\u001b[0m \u001b[0mepoch\u001b[0m \u001b[1;32min\u001b[0m \u001b[0mrange\u001b[0m\u001b[1;33m(\u001b[0m\u001b[1;36m1\u001b[0m\u001b[1;33m,\u001b[0m \u001b[1;36m50\u001b[0m\u001b[1;33m)\u001b[0m\u001b[1;33m:\u001b[0m\u001b[1;33m\u001b[0m\u001b[1;33m\u001b[0m\u001b[0m\n\u001b[1;32m----> 2\u001b[1;33m     \u001b[0mloss\u001b[0m \u001b[1;33m=\u001b[0m \u001b[0mtrain\u001b[0m\u001b[1;33m(\u001b[0m\u001b[1;33m)\u001b[0m\u001b[1;33m\u001b[0m\u001b[1;33m\u001b[0m\u001b[0m\n\u001b[0m\u001b[0;32m      3\u001b[0m     \u001b[0mtrain_acc\u001b[0m\u001b[1;33m,\u001b[0m \u001b[0mtest_acc\u001b[0m \u001b[1;33m=\u001b[0m \u001b[0mtest\u001b[0m\u001b[1;33m(\u001b[0m\u001b[1;33m)\u001b[0m\u001b[1;33m\u001b[0m\u001b[1;33m\u001b[0m\u001b[0m\n\u001b[0;32m      4\u001b[0m     print(f'Epoch: {epoch:02d}, Loss: {loss:.4f}, Train: {train_acc:.4f} '\n\u001b[0;32m      5\u001b[0m           f'Test: {test_acc:.4f}')\n",
            "\u001b[1;32m~\\AppData\\Local\\Temp\\ipykernel_36828\\2382747263.py\u001b[0m in \u001b[0;36mtrain\u001b[1;34m()\u001b[0m\n\u001b[0;32m     11\u001b[0m     \u001b[0mout\u001b[0m \u001b[1;33m=\u001b[0m \u001b[0mmodel\u001b[0m\u001b[1;33m(\u001b[0m\u001b[0mdata\u001b[0m\u001b[1;33m.\u001b[0m\u001b[0medge_index\u001b[0m\u001b[1;33m,\u001b[0m \u001b[0mdata\u001b[0m\u001b[1;33m.\u001b[0m\u001b[0medge_type\u001b[0m\u001b[1;33m)\u001b[0m\u001b[1;33m\u001b[0m\u001b[1;33m\u001b[0m\u001b[0m\n\u001b[0;32m     12\u001b[0m     \u001b[0mprint\u001b[0m\u001b[1;33m(\u001b[0m\u001b[0mlen\u001b[0m\u001b[1;33m(\u001b[0m\u001b[0mout\u001b[0m\u001b[1;33m)\u001b[0m\u001b[1;33m)\u001b[0m\u001b[1;33m\u001b[0m\u001b[1;33m\u001b[0m\u001b[0m\n\u001b[1;32m---> 13\u001b[1;33m     \u001b[0mloss\u001b[0m \u001b[1;33m=\u001b[0m \u001b[0mloss_module\u001b[0m\u001b[1;33m(\u001b[0m\u001b[0mout\u001b[0m\u001b[1;33m[\u001b[0m\u001b[0mtrain_idx\u001b[0m\u001b[1;33m]\u001b[0m\u001b[1;33m,\u001b[0m \u001b[0mtrain_y\u001b[0m\u001b[1;33m)\u001b[0m\u001b[1;33m\u001b[0m\u001b[1;33m\u001b[0m\u001b[0m\n\u001b[0m\u001b[0;32m     14\u001b[0m     \u001b[0mloss\u001b[0m\u001b[1;33m.\u001b[0m\u001b[0mbackward\u001b[0m\u001b[1;33m(\u001b[0m\u001b[1;33m)\u001b[0m\u001b[1;33m\u001b[0m\u001b[1;33m\u001b[0m\u001b[0m\n\u001b[0;32m     15\u001b[0m     \u001b[0moptimizer\u001b[0m\u001b[1;33m.\u001b[0m\u001b[0mstep\u001b[0m\u001b[1;33m(\u001b[0m\u001b[1;33m)\u001b[0m\u001b[1;33m\u001b[0m\u001b[1;33m\u001b[0m\u001b[0m\n",
            "\u001b[1;31mIndexError\u001b[0m: index 618 is out of bounds for dimension 0 with size 616"
          ]
        }
      ],
      "source": [
        "for epoch in range(1, 50):\n",
        "    loss = train()\n",
        "    train_acc, test_acc = test()\n",
        "    print(f'Epoch: {epoch:02d}, Loss: {loss:.4f}, Train: {train_acc:.4f} '\n",
        "          f'Test: {test_acc:.4f}')"
      ]
    },
    {
      "cell_type": "markdown",
      "metadata": {
        "id": "4jKwzXwUJjs6"
      },
      "source": [
        "## Visualización del modelo"
      ]
    },
    {
      "cell_type": "code",
      "execution_count": null,
      "metadata": {
        "colab": {
          "base_uri": "https://localhost:8080/",
          "height": 345
        },
        "id": "MQyJ6kyLJmKU",
        "outputId": "c1b2811a-247d-44cf-d641-8945b70348d2"
      },
      "outputs": [],
      "source": [
        "pred = model(edge_index, edge_type)\n"
      ]
    },
    {
      "cell_type": "code",
      "execution_count": null,
      "metadata": {
        "colab": {
          "base_uri": "https://localhost:8080/",
          "height": 165
        },
        "id": "XN9XDfS4JmpH",
        "outputId": "1be230c4-78e7-4950-e349-bdf0610c98e6"
      },
      "outputs": [],
      "source": [
        "visualize(pred[train_idx], color=to_categorical(train_y), labels=LABELS)\n"
      ]
    },
    {
      "cell_type": "code",
      "execution_count": null,
      "metadata": {
        "colab": {
          "base_uri": "https://localhost:8080/",
          "height": 165
        },
        "id": "UqAIZjlPJnu9",
        "outputId": "045cd438-5e6b-454c-9d8d-629fbe27250e"
      },
      "outputs": [],
      "source": [
        "visualize(pred[test_idx], color=to_categorical(test_y), labels=LABELS)\n"
      ]
    },
    {
      "cell_type": "markdown",
      "metadata": {
        "id": "WzqmC2hzJqtL"
      },
      "source": [
        "# Uso y análisis de las predicciones mediante Rubrix"
      ]
    },
    {
      "cell_type": "code",
      "execution_count": null,
      "metadata": {
        "colab": {
          "base_uri": "https://localhost:8080/",
          "height": 345
        },
        "id": "nmNLe0YRJozF",
        "outputId": "688fbc34-8b6a-4001-f3ec-b323ac34b8f3"
      },
      "outputs": [],
      "source": [
        "pred = model(edge_index, edge_type) ; pred\n"
      ]
    },
    {
      "cell_type": "code",
      "execution_count": null,
      "metadata": {
        "id": "BLUJOGiCJ07K"
      },
      "outputs": [],
      "source": [
        "def find(tensor, values):\n",
        "    return torch.nonzero(tensor[..., None] == values)"
      ]
    },
    {
      "cell_type": "markdown",
      "metadata": {
        "id": "0SMIzChZJ4Mp"
      },
      "source": [
        "### Análisis de predicciones Vs test dataset"
      ]
    },
    {
      "cell_type": "code",
      "execution_count": null,
      "metadata": {
        "colab": {
          "base_uri": "https://localhost:8080/",
          "height": 165
        },
        "id": "YzYv0No3J84s",
        "outputId": "f0a3023d-0d11-4b4a-b18b-3e57dcccf451"
      },
      "outputs": [],
      "source": [
        "test_idx = find(node_idx,test_idx)[:,0] ; len(test_idx)\n"
      ]
    },
    {
      "cell_type": "code",
      "execution_count": null,
      "metadata": {
        "colab": {
          "base_uri": "https://localhost:8080/",
          "height": 200
        },
        "id": "ql_qIE34J-bm",
        "outputId": "417fe2d6-dca0-482b-e460-7696ac18ede7"
      },
      "outputs": [],
      "source": [
        "index = torch.zeros(node_idx.shape[0], dtype=bool)\n",
        "index[test_idx] = True\n",
        "idx = node_idx[index]"
      ]
    },
    {
      "cell_type": "code",
      "execution_count": null,
      "metadata": {
        "colab": {
          "base_uri": "https://localhost:8080/",
          "height": 183
        },
        "id": "zGMxlu6HJ_m7",
        "outputId": "41ddcaca-5b27-421f-d5ac-e86e52cb3ecd"
      },
      "outputs": [],
      "source": [
        "uris = [sg.inverse_transform(i) for i in idx]\n",
        "predicted_labels = [l for l in pred[idx]]"
      ]
    },
    {
      "cell_type": "code",
      "execution_count": null,
      "metadata": {
        "colab": {
          "base_uri": "https://localhost:8080/",
          "height": 165
        },
        "id": "7uLCzyTGKAmh",
        "outputId": "09c72408-31dd-4ccf-f094-79b4007b005c"
      },
      "outputs": [],
      "source": [
        "predictions = list(zip(uris,predicted_labels)) ; predictions[0:2]"
      ]
    },
    {
      "cell_type": "code",
      "execution_count": null,
      "metadata": {
        "colab": {
          "base_uri": "https://localhost:8080/",
          "height": 235
        },
        "id": "eqAgY4f6KBpE",
        "outputId": "bd6bd3c7-f8ee-4f4f-b919-a2d30c0409e8"
      },
      "outputs": [],
      "source": [
        "import rubrix as rb\n",
        "\n",
        "records = []\n",
        "for uri,predicted_labels in predictions:\n",
        "    ids = ing_recipes_df.index[ing_recipes_df.uri == uri]\n",
        "    if len(ids) > 0:\n",
        "        r = ing_recipes_df.iloc[ids]\n",
        "        # get the gold labels from our test set\n",
        "        gold_labels = test_df.iloc[test_df.index[test_df.uri == uri]].labels.values[0]\n",
        "\n",
        "        item = rb.TextClassificationRecord(\n",
        "                inputs={\"id\":r.uri.values[0], \"definition\": r.definition.values[0], \"ingredients\": str(r.ingredients.values[0]), \"type\": r.type.values[0]},\n",
        "                prediction=[(id2label[i], score) for i,score in enumerate(predicted_labels)],\n",
        "                annotation=gold_labels,\n",
        "                metadata={'ingredients': r.ingredients.values[0], \"type\": r.type.values[0]},\n",
        "                prediction_agent=\"node_classifier_v1\",\n",
        "                multi_label=True\n",
        "        )\n",
        "        records.append(item)"
      ]
    },
    {
      "cell_type": "code",
      "execution_count": null,
      "metadata": {
        "colab": {
          "base_uri": "https://localhost:8080/",
          "height": 467
        },
        "id": "vConbZMFKDpY",
        "outputId": "8a37c713-8827-494c-f1b5-2088a7c96366"
      },
      "outputs": [],
      "source": [
        "rb.log(records, name=\"kg_classification_test_analysis\")\n"
      ]
    },
    {
      "cell_type": "markdown",
      "metadata": {
        "id": "MkwrnZbYKHUo"
      },
      "source": [
        "### Analisis de predicciones ahora con datos no usados (reclasificación?)"
      ]
    },
    {
      "cell_type": "code",
      "execution_count": null,
      "metadata": {
        "colab": {
          "base_uri": "https://localhost:8080/",
          "height": 183
        },
        "id": "J-bGsraPKOXd",
        "outputId": "9261756b-526d-4d89-927d-aee295c53a4b"
      },
      "outputs": [],
      "source": [
        "train_test_idx = find(node_idx,torch.cat((test_idx, train_idx)))[:,0] ; len(train_test_idx)\n"
      ]
    },
    {
      "cell_type": "code",
      "execution_count": null,
      "metadata": {
        "colab": {
          "base_uri": "https://localhost:8080/",
          "height": 217
        },
        "id": "w4AtcOS9KOuk",
        "outputId": "69aac623-29b4-4471-b384-c58fa28d27fd"
      },
      "outputs": [],
      "source": [
        "# Ids que no están en el training dataset\n",
        "index = torch.ones(node_idx.shape[0], dtype=bool)\n",
        "index[train_test_idx] = False\n",
        "idx = node_idx[index]"
      ]
    },
    {
      "cell_type": "code",
      "execution_count": null,
      "metadata": {
        "colab": {
          "base_uri": "https://localhost:8080/",
          "height": 200
        },
        "id": "BtjAJ5z6KVrm",
        "outputId": "84746d56-5378-4b7d-9caa-1abd27c59ab6"
      },
      "outputs": [],
      "source": [
        "# SubgraphTensor para des-transformar las URIs\n",
        "uris = [sg.inverse_transform(i) for i in idx]\n",
        "predicted_labels = [l for l in pred[idx]]"
      ]
    },
    {
      "cell_type": "code",
      "execution_count": null,
      "metadata": {
        "colab": {
          "base_uri": "https://localhost:8080/",
          "height": 165
        },
        "id": "13aPErGtKdLl",
        "outputId": "40de4a26-fd71-4a93-92ff-c27cfe5a9c7a"
      },
      "outputs": [],
      "source": [
        "predictions = list(zip(uris,predicted_labels)) ; predictions[0:2]\n"
      ]
    },
    {
      "cell_type": "code",
      "execution_count": null,
      "metadata": {
        "colab": {
          "base_uri": "https://localhost:8080/",
          "height": 235
        },
        "id": "zgyw3EAGKelI",
        "outputId": "4632f5c7-0a53-4080-ea26-fc22da6db2e9"
      },
      "outputs": [],
      "source": [
        "import rubrix as rb\n",
        "\n",
        "records = []\n",
        "for uri,predicted_labels in predictions:\n",
        "    ids = ing_recipes_df.index[ing_recipes_df.uri == uri]\n",
        "    if len(ids) > 0:\n",
        "        r = ing_recipes_df.iloc[ids]\n",
        "        item = rb.TextClassificationRecord(\n",
        "                inputs={\"id\":r.uri.values[0], \"definition\": r.definition.values[0], \"ingredients\": str(r.ingredients.values[0]), \"type\": r.type.values[0]},\n",
        "                prediction=[(id2label[i], score) for i,score in enumerate(predicted_labels)],\n",
        "                metadata={'ingredients': r.ingredients.values[0], \"type\": r.type.values[0]},\n",
        "                prediction_agent=\"node_classifier_v1\",\n",
        "                multi_label=True\n",
        "        )\n",
        "        records.append(item)"
      ]
    },
    {
      "cell_type": "code",
      "execution_count": null,
      "metadata": {
        "colab": {
          "base_uri": "https://localhost:8080/",
          "height": 467
        },
        "id": "Vo83a1RzKFVC",
        "outputId": "c9d2be53-674f-4d9d-a565-9d9490470479"
      },
      "outputs": [],
      "source": [
        "rb.log(records, name=\"kg_node_classification_unseen_nodes_v3\")\n"
      ]
    },
    {
      "cell_type": "code",
      "execution_count": null,
      "metadata": {
        "id": "bGhQ-pr5JYaf"
      },
      "outputs": [],
      "source": []
    }
  ],
  "metadata": {
    "colab": {
      "collapsed_sections": [],
      "provenance": []
    },
    "kernelspec": {
      "display_name": "Python 3",
      "name": "python3"
    },
    "language_info": {
      "codemirror_mode": {
        "name": "ipython",
        "version": 3
      },
      "file_extension": ".py",
      "mimetype": "text/x-python",
      "name": "python",
      "nbconvert_exporter": "python",
      "pygments_lexer": "ipython3",
      "version": "3.7.4"
    }
  },
  "nbformat": 4,
  "nbformat_minor": 0
}
